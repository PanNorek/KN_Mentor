{
 "cells": [
  {
   "cell_type": "markdown",
   "metadata": {},
   "source": [
    "# Web Scraping"
   ]
  },
  {
   "cell_type": "code",
   "execution_count": 2,
   "metadata": {},
   "outputs": [],
   "source": [
    "from bs4 import BeautifulSoup\n",
    "import requests,re, matplotlib.pyplot as plt\n",
    "from itertools import count\n",
    "import concurrent.futures\n",
    "from tqdm import tqdm "
   ]
  },
  {
   "cell_type": "code",
   "execution_count": 3,
   "metadata": {},
   "outputs": [],
   "source": [
    "Warsaw = True\n",
    "Krakow = False\n",
    "page_count = 5"
   ]
  },
  {
   "cell_type": "code",
   "execution_count": 4,
   "metadata": {},
   "outputs": [],
   "source": [
    "class Offer:\n",
    "    iterator =(count(start = 1, step = 1))\n",
    "    def __init__(self,title,link,price):\n",
    "        self.id = next(self.iterator)\n",
    "        self.title = title\n",
    "        self.price = price\n",
    "        self.link = 'https://www.gumtree.pl' + link\n",
    "        if Warsaw:\n",
    "            district_name_regex = 'wynajecia\\/\\w+'\n",
    "            tmp = re.search(district_name_regex,self.link).group(0)\n",
    "            district_name_regex2 = '\\/\\w+'\n",
    "            # [1:]pozbywam sie '/' na poczatku \n",
    "            self.district = re.search(district_name_regex2,tmp).group(0)[1:]\n",
    "\n",
    "        self.get_more_info()\n",
    "\n",
    "    def __str__(self):\n",
    "        return f'{self.id}. {self.title} {self.price}'\n",
    "    #web scrap na trochę większą skalę \n",
    "    def get_more_info(self):\n",
    "        response = requests.get(self.link)\n",
    "        soup = BeautifulSoup(response.text, 'html.parser')\n",
    "        other_info = [x.text for x in soup.find_all('div',{'class':'attribute'})]\n",
    "        \n",
    "\n",
    "        for i in range(len(other_info)):\n",
    "            if 'Data dodania' in other_info[i]:\n",
    "                # other_info[0] \"Data dodania13/10/2021\"\n",
    "                date_regex = \"\\d{1,2}\\/\\d{1,2}\\/\\d{4}\"\n",
    "                self.date_added = re.search(date_regex,other_info[i]).group(0)\n",
    "\n",
    "            if \"Do wynajęcia przez\" in other_info[i]:\n",
    "                # other_info[2] 'Do wynajęcia przezWłaściciel'\n",
    "                if 'Właściciel' in other_info[i]:\n",
    "                    self.owner = 'Właściciel'\n",
    "                else:\n",
    "                    self.owner = 'Agencja'\n",
    "\n",
    "            if \"Dostępny\" in other_info[i]:\n",
    "                # other_info[3]'Dostępny od2021-11-03',\n",
    "                date_regex2 = r\"\\d{4}\\-\\d{1,2}\\-\\d{1,2}\"\n",
    "                if re.search(date_regex2,other_info[i]) is not None:\n",
    "                    self.access_date = re.search(date_regex2,other_info[i]).group(0)\n",
    "                else:\n",
    "                    self.access_date = 'brak'\n",
    "\n",
    "            if \"Rodzaj nieruchomości\" in other_info[i]:\n",
    "                # other_info[4] 'Rodzaj nieruchomościMieszkanie'\n",
    "                if 'Mieszkanie' in other_info[i]:\n",
    "                    self.property_type = 'Mieszkanie'\n",
    "                elif 'Dom' in other_info[i]:\n",
    "                    self.property_type = 'Dom'\n",
    "                else :\n",
    "                    self.property_type = 'Inne'\n",
    "\n",
    "\n",
    "            # other_info[5] 'Liczba pokoi2 pokoje'\n",
    "            if 'Liczba pokoi' in other_info[i]:\n",
    "                room_regex = \"\\d+\"\n",
    "\n",
    "                if re.search(room_regex,other_info[i]) is not None:\n",
    "                    self.room_count = re.search(room_regex,other_info[i]).group(0)\n",
    "                elif \"Kawalerka\" in other_info[i]:\n",
    "                    self.room_count = \"Kawalerka\"\n",
    "                else:\n",
    "                    self.room_count = 'brak'\n",
    "\n",
    "            # other_info[6] 'Liczba łazienek1 łazienka',\n",
    "            if 'Liczba łazienek' in other_info[i]:\n",
    "                bathroom_regex=\"\\d+\"\n",
    "\n",
    "                if re.search(bathroom_regex,other_info[i]) is not None:\n",
    "                    self.bathroom_count = re.search(bathroom_regex,other_info[i]).group(0)\n",
    "                else:\n",
    "                    self.bathroom_count = 'brak'\n",
    "\n",
    "            # other_info[7] 'Wielkość (m2)54'\n",
    "            if \"Wielkość\" in other_info[i]:\n",
    "                living_space_regex = \"\\d{2,3}\"\n",
    "                if re.search(living_space_regex,other_info[i]) is not None:\n",
    "                    self.living_space = re.search(living_space_regex,other_info[i]).group(0)\n",
    "                else:\n",
    "                    self.living_space = 'brak'\n",
    "\n",
    "            # other_info[8] 'PalącyNie'\n",
    "            if \"Palący\" in other_info[i]:\n",
    "                if len(other_info) == 9:\n",
    "                    if 'Tak' in other_info[-1]:\n",
    "                        self.smoker = 'Tak'\n",
    "                    else:\n",
    "                        self.smoker = 'Nie'\n",
    "    "
   ]
  },
  {
   "cell_type": "code",
   "execution_count": 5,
   "metadata": {},
   "outputs": [],
   "source": [
    "class Offers:\n",
    "    def __init__(self,title):\n",
    "        self.offers = {}\n",
    "        self.title = title\n",
    "\n",
    "    def add_offer(self,offer):\n",
    "        assert type(offer) == Offer\n",
    "        self.offers[offer.id] = offer"
   ]
  },
  {
   "cell_type": "code",
   "execution_count": 6,
   "metadata": {},
   "outputs": [],
   "source": [
    "def extract_prices(regex,re_Match_objects_list):\n",
    "    '''\n",
    "            Temporary function. Need upgrade.\n",
    "    \n",
    "    input: regex -> dany wzorzec do wyszukiwaania \n",
    "\n",
    "        re_Match_objects_list -> lista stringów \n",
    "\n",
    "    output: lista zawierająca wszystkie wzorce wyszukane w stringu\n",
    "    \n",
    "    '''\n",
    "    tmp =[]\n",
    "    for single_element in re_Match_objects_list:\n",
    "        # re.search -> Scan through string looking for a match to the pattern, returning a Match object, or None if no match was found.\n",
    "        single_element =re.search(regex, str(single_element))\n",
    "        try:\n",
    "            # .group(0) returns the full string matched by the regex\n",
    "            single_element = single_element.group(0)\n",
    "        except (TypeError,AttributeError):\n",
    "            single_element = '000'\n",
    "        # funkcja zbudowana pod konkretny przpypadek - nie jest uniwersalna!\n",
    "        single_element = \"\".join(single_element[0:-2].split())   \n",
    "        tmp.append(int(single_element))\n",
    "    return tmp\n",
    "\n",
    "def displaymatch(match):\n",
    "    if match is None:\n",
    "        return None\n",
    "    return ('%r') % (match.group(0))"
   ]
  },
  {
   "cell_type": "code",
   "execution_count": 7,
   "metadata": {},
   "outputs": [],
   "source": [
    "prices_regex = \"\\d*\\s{1}\\d+\\szł\"\n",
    "gumtree_offers = Offers(\"Oferty z gumtree\")"
   ]
  },
  {
   "cell_type": "code",
   "execution_count": 8,
   "metadata": {},
   "outputs": [],
   "source": [
    "no_threads = 10\n",
    "# https://www.gumtree.pl/s-mieszkania-i-domy-do-wynajecia/krakow/page-2/v1c9008l3200208p2\n",
    "def link_generator(page_count):\n",
    "    if Krakow:\n",
    "        links = [f\"https://www.gumtree.pl/s-mieszkania-i-domy-do-wynajecia/krakow/page-{page_number}/v1c9008l3200208p{page_number}\" for page_number in range(2,page_count+1)]\n",
    "        \n",
    "    if Warsaw:\n",
    "        links = [f\"https://www.gumtree.pl/s-mieszkania-i-domy-do-wynajecia/warszawa/page-{page_number}/v1c9008l3200008p{page_number}\" for page_number in range(2,page_count+1)]\n",
    "\n",
    "    return links\n",
    "\n",
    "# with concurrent.futures.ThreadPoolExecutor(max_workers=no_threads) as executor:\n",
    "#     for page in tqdm(link_generator(page_count)):\n",
    "#         executor.submit(function_to_get_data_from_page, page)\n",
    "\n",
    "for page_address in link_generator(page_count):\n",
    "    if Krakow:\n",
    "        html_text = requests.get(page_address)\n",
    "    if Warsaw:\n",
    "        html_text = requests.get(page_address)\n",
    "    assert html_text.status_code == 200\n",
    "\n",
    "    soup = BeautifulSoup(html_text.text, 'lxml')\n",
    "    offers = soup.find_all('div',class_ = 'tileV1')\n",
    "\n",
    "    links_2 = soup.find_all('a',class_='href-link tile-title-text', href=True)\n",
    "    links_2 = [x['href'] for x in links_2]\n",
    "    links =[offers[x].find('a',class_='href-link tile-title-text') for x in range(0,len(offers))] \n",
    "\n",
    "    titles = [x.text for x in links]\n",
    "\n",
    "    prices = [offers[x].find('span',class_='ad-price') for x in range(0,len(offers))]\n",
    "    prices = extract_prices(prices_regex,prices)\n",
    "\n",
    "\n",
    "    assert len(offers)==len(prices)\n",
    "\n",
    "    # print([displaymatch(match) for match in tmp])\n",
    "\n",
    "    for i in range(len(offers)):\n",
    "        gumtree_offers.add_offer(Offer(titles[i],links_2[i],prices[i]))"
   ]
  },
  {
   "cell_type": "code",
   "execution_count": 9,
   "metadata": {},
   "outputs": [],
   "source": [
    "import pandas as pd\n",
    "import numpy as np"
   ]
  },
  {
   "cell_type": "code",
   "execution_count": 10,
   "metadata": {},
   "outputs": [
    {
     "data": {
      "text/html": [
       "<div>\n",
       "<style scoped>\n",
       "    .dataframe tbody tr th:only-of-type {\n",
       "        vertical-align: middle;\n",
       "    }\n",
       "\n",
       "    .dataframe tbody tr th {\n",
       "        vertical-align: top;\n",
       "    }\n",
       "\n",
       "    .dataframe thead th {\n",
       "        text-align: right;\n",
       "    }\n",
       "</style>\n",
       "<table border=\"1\" class=\"dataframe\">\n",
       "  <thead>\n",
       "    <tr style=\"text-align: right;\">\n",
       "      <th></th>\n",
       "      <th>district</th>\n",
       "      <th>living_space</th>\n",
       "      <th>price</th>\n",
       "      <th>room_count</th>\n",
       "      <th>access_date</th>\n",
       "      <th>bathroom_count</th>\n",
       "      <th>date_added</th>\n",
       "      <th>owner</th>\n",
       "      <th>property_type</th>\n",
       "      <th>link</th>\n",
       "      <th>smoker</th>\n",
       "      <th>title</th>\n",
       "    </tr>\n",
       "  </thead>\n",
       "  <tbody>\n",
       "    <tr>\n",
       "      <th>88</th>\n",
       "      <td>bemowo</td>\n",
       "      <td>49.0</td>\n",
       "      <td>1800</td>\n",
       "      <td>2</td>\n",
       "      <td>NaN</td>\n",
       "      <td>NaN</td>\n",
       "      <td>18/11/2021</td>\n",
       "      <td>Agencja</td>\n",
       "      <td>Mieszkanie</td>\n",
       "      <td>https://www.gumtree.pl/a-mieszkania-i-domy-do-...</td>\n",
       "      <td>NaN</td>\n",
       "      <td>Umeblowane, ciche, w dobrej lokalizacji.</td>\n",
       "    </tr>\n",
       "    <tr>\n",
       "      <th>28</th>\n",
       "      <td>bemowo</td>\n",
       "      <td>200.0</td>\n",
       "      <td>8000</td>\n",
       "      <td>6</td>\n",
       "      <td>NaN</td>\n",
       "      <td>3.0</td>\n",
       "      <td>18/11/2021</td>\n",
       "      <td>Agencja</td>\n",
       "      <td>Mieszkanie</td>\n",
       "      <td>https://www.gumtree.pl/a-mieszkania-i-domy-do-...</td>\n",
       "      <td>NaN</td>\n",
       "      <td>Apartament 200m2 do wynajęcia</td>\n",
       "    </tr>\n",
       "    <tr>\n",
       "      <th>85</th>\n",
       "      <td>bemowo</td>\n",
       "      <td>49.0</td>\n",
       "      <td>1800</td>\n",
       "      <td>2</td>\n",
       "      <td>NaN</td>\n",
       "      <td>NaN</td>\n",
       "      <td>18/11/2021</td>\n",
       "      <td>Agencja</td>\n",
       "      <td>Mieszkanie</td>\n",
       "      <td>https://www.gumtree.pl/a-mieszkania-i-domy-do-...</td>\n",
       "      <td>NaN</td>\n",
       "      <td>Umeblowane, ciche, w dobrej lokalizacji.</td>\n",
       "    </tr>\n",
       "    <tr>\n",
       "      <th>38</th>\n",
       "      <td>bialoleka</td>\n",
       "      <td>34.0</td>\n",
       "      <td>1700</td>\n",
       "      <td>Kawalerka</td>\n",
       "      <td>NaN</td>\n",
       "      <td>1.0</td>\n",
       "      <td>18/11/2021</td>\n",
       "      <td>Agencja</td>\n",
       "      <td>Mieszkanie</td>\n",
       "      <td>https://www.gumtree.pl/a-mieszkania-i-domy-do-...</td>\n",
       "      <td>NaN</td>\n",
       "      <td>Okazja!!! Kawalerka w centrum Tarchomina</td>\n",
       "    </tr>\n",
       "    <tr>\n",
       "      <th>43</th>\n",
       "      <td>bialoleka</td>\n",
       "      <td>82.0</td>\n",
       "      <td>2700</td>\n",
       "      <td>3</td>\n",
       "      <td>NaN</td>\n",
       "      <td>1.0</td>\n",
       "      <td>18/11/2021</td>\n",
       "      <td>Agencja</td>\n",
       "      <td>Mieszkanie</td>\n",
       "      <td>https://www.gumtree.pl/a-mieszkania-i-domy-do-...</td>\n",
       "      <td>NaN</td>\n",
       "      <td>Duże 3 pokojowe mieszkanie w sercu Tarchomina</td>\n",
       "    </tr>\n",
       "  </tbody>\n",
       "</table>\n",
       "</div>"
      ],
      "text/plain": [
       "     district  living_space  price room_count access_date  bathroom_count  \\\n",
       "88     bemowo          49.0   1800          2         NaN             NaN   \n",
       "28     bemowo         200.0   8000          6         NaN             3.0   \n",
       "85     bemowo          49.0   1800          2         NaN             NaN   \n",
       "38  bialoleka          34.0   1700  Kawalerka         NaN             1.0   \n",
       "43  bialoleka          82.0   2700          3         NaN             1.0   \n",
       "\n",
       "    date_added    owner property_type  \\\n",
       "88  18/11/2021  Agencja    Mieszkanie   \n",
       "28  18/11/2021  Agencja    Mieszkanie   \n",
       "85  18/11/2021  Agencja    Mieszkanie   \n",
       "38  18/11/2021  Agencja    Mieszkanie   \n",
       "43  18/11/2021  Agencja    Mieszkanie   \n",
       "\n",
       "                                                 link smoker  \\\n",
       "88  https://www.gumtree.pl/a-mieszkania-i-domy-do-...    NaN   \n",
       "28  https://www.gumtree.pl/a-mieszkania-i-domy-do-...    NaN   \n",
       "85  https://www.gumtree.pl/a-mieszkania-i-domy-do-...    NaN   \n",
       "38  https://www.gumtree.pl/a-mieszkania-i-domy-do-...    NaN   \n",
       "43  https://www.gumtree.pl/a-mieszkania-i-domy-do-...    NaN   \n",
       "\n",
       "                                            title  \n",
       "88       Umeblowane, ciche, w dobrej lokalizacji.  \n",
       "28                  Apartament 200m2 do wynajęcia  \n",
       "85       Umeblowane, ciche, w dobrej lokalizacji.  \n",
       "38       Okazja!!! Kawalerka w centrum Tarchomina  \n",
       "43  Duże 3 pokojowe mieszkanie w sercu Tarchomina  "
      ]
     },
     "execution_count": 10,
     "metadata": {},
     "output_type": "execute_result"
    }
   ],
   "source": [
    "d = {\n",
    "# 'id': [x.id if hasattr(x, 'id') else np.nan for x in gumtree_offers.offers.values()],\n",
    "'district': [x.district  if hasattr(x, 'district') else np.nan for x in gumtree_offers.offers.values()],\n",
    "'living_space': [int(x.living_space) if hasattr(x, 'living_space') else np.nan for x in gumtree_offers.offers.values()],\n",
    "'price': [x.price if hasattr(x, 'price') else np.nan for x in gumtree_offers.offers.values()],\n",
    "'room_count': [x.room_count if hasattr(x, 'room_count') else np.nan for x in gumtree_offers.offers.values()],\n",
    "'access_date': [x.access_date  if hasattr(x, 'access_date') else np.nan for x in gumtree_offers.offers.values()],\n",
    "'bathroom_count': [int(x.bathroom_count) if hasattr(x, 'bathroom_count') else np.nan for x in gumtree_offers.offers.values()],\n",
    "'date_added': [x.date_added if hasattr(x, 'date_added') else np.nan for x in gumtree_offers.offers.values()],\n",
    "'owner': [x.owner if hasattr(x, 'owner') else np.nan for x in gumtree_offers.offers.values()],\n",
    "'property_type': [x.property_type if hasattr(x, 'property_type') else np.nan for x in gumtree_offers.offers.values()],\n",
    "'room_count': [x.room_count if hasattr(x, 'room_count') else np.nan for x in gumtree_offers.offers.values()],\n",
    "'link': [x.link if hasattr(x, 'link') else np.nan for x in gumtree_offers.offers.values()],\n",
    "'smoker': [x.smoker if hasattr(x, 'smoker') else np.nan for x in gumtree_offers.offers.values()],\n",
    "'title': [x.title if hasattr(x, 'title') else np.nan for x in gumtree_offers.offers.values()]}\n",
    "df = pd.DataFrame(data=d).sort_values(by=['district'])\n",
    "df.head()\n"
   ]
  },
  {
   "cell_type": "code",
   "execution_count": 11,
   "metadata": {},
   "outputs": [
    {
     "data": {
      "text/plain": [
       "<BarContainer object of 12 artists>"
      ]
     },
     "execution_count": 11,
     "metadata": {},
     "output_type": "execute_result"
    },
    {
     "data": {
      "image/png": "[encoded data removed]",
      "text/plain": [
       "<Figure size 432x288 with 1 Axes>"
      ]
     },
     "metadata": {
      "needs_background": "light"
     },
     "output_type": "display_data"
    }
   ],
   "source": [
    "plt.barh(df[\"district\"].value_counts().index, df[\"district\"].value_counts().values)"
   ]
  },
  {
   "cell_type": "code",
   "execution_count": 12,
   "metadata": {},
   "outputs": [
    {
     "data": {
      "text/plain": [
       "district           0\n",
       "living_space       2\n",
       "price              0\n",
       "room_count         2\n",
       "access_date       69\n",
       "bathroom_count    24\n",
       "date_added         0\n",
       "owner              4\n",
       "property_type      1\n",
       "link               0\n",
       "smoker            91\n",
       "title              0\n",
       "dtype: int64"
      ]
     },
     "execution_count": 12,
     "metadata": {},
     "output_type": "execute_result"
    }
   ],
   "source": [
    "pd.isna(df).sum()"
   ]
  },
  {
   "cell_type": "code",
   "execution_count": 13,
   "metadata": {},
   "outputs": [
    {
     "data": {
      "text/html": [
       "<div>\n",
       "<style scoped>\n",
       "    .dataframe tbody tr th:only-of-type {\n",
       "        vertical-align: middle;\n",
       "    }\n",
       "\n",
       "    .dataframe tbody tr th {\n",
       "        vertical-align: top;\n",
       "    }\n",
       "\n",
       "    .dataframe thead th {\n",
       "        text-align: right;\n",
       "    }\n",
       "</style>\n",
       "<table border=\"1\" class=\"dataframe\">\n",
       "  <thead>\n",
       "    <tr style=\"text-align: right;\">\n",
       "      <th></th>\n",
       "      <th>living_space</th>\n",
       "      <th>price</th>\n",
       "      <th>bathroom_count</th>\n",
       "    </tr>\n",
       "  </thead>\n",
       "  <tbody>\n",
       "    <tr>\n",
       "      <th>living_space</th>\n",
       "      <td>1.000000</td>\n",
       "      <td>0.829253</td>\n",
       "      <td>0.736419</td>\n",
       "    </tr>\n",
       "    <tr>\n",
       "      <th>price</th>\n",
       "      <td>0.829253</td>\n",
       "      <td>1.000000</td>\n",
       "      <td>0.610106</td>\n",
       "    </tr>\n",
       "    <tr>\n",
       "      <th>bathroom_count</th>\n",
       "      <td>0.736419</td>\n",
       "      <td>0.610106</td>\n",
       "      <td>1.000000</td>\n",
       "    </tr>\n",
       "  </tbody>\n",
       "</table>\n",
       "</div>"
      ],
      "text/plain": [
       "                living_space     price  bathroom_count\n",
       "living_space        1.000000  0.829253        0.736419\n",
       "price               0.829253  1.000000        0.610106\n",
       "bathroom_count      0.736419  0.610106        1.000000"
      ]
     },
     "execution_count": 13,
     "metadata": {},
     "output_type": "execute_result"
    }
   ],
   "source": [
    "df.corr()"
   ]
  },
  {
   "cell_type": "code",
   "execution_count": 22,
   "metadata": {},
   "outputs": [],
   "source": [
    "df[\"living_space\"].fillna(df[\"living_space\"].mean(), inplace=True)"
   ]
  },
  {
   "cell_type": "code",
   "execution_count": 15,
   "metadata": {},
   "outputs": [],
   "source": [
    "# df.to_csv('gumtree_offers.csv',index=True, encoding='utf-8-sig')\n",
    "# df = pd.read_csv('gumtree_offers.csv')"
   ]
  },
  {
   "cell_type": "markdown",
   "metadata": {},
   "source": [
    "# Linear Regression with Scikit-Learn"
   ]
  },
  {
   "cell_type": "code",
   "execution_count": 16,
   "metadata": {},
   "outputs": [
    {
     "data": {
      "text/plain": [
       "(0.0, 8000.0)"
      ]
     },
     "execution_count": 16,
     "metadata": {},
     "output_type": "execute_result"
    },
    {
     "data": {
      "image/png": "[encoded data removed]",
      "text/plain": [
       "<Figure size 432x288 with 2 Axes>"
      ]
     },
     "metadata": {
      "needs_background": "light"
     },
     "output_type": "display_data"
    }
   ],
   "source": [
    "prices = [x.price for x in gumtree_offers.offers.values()]\n",
    "f, (ax1, ax2) = plt.subplots(2, 1, sharey=True)\n",
    "ax1.scatter(df[\"living_space\"],prices)\n",
    "ax1.set_title('Scatter plot of living space vs price')\n",
    "\n",
    "ax2.boxplot([price for price in prices if price <10000])\n",
    "ax2.set_ylim(0,8000)\n"
   ]
  },
  {
   "cell_type": "code",
   "execution_count": 25,
   "metadata": {},
   "outputs": [
    {
     "name": "stdout",
     "output_type": "stream",
     "text": [
      "Coefficients: \n",
      " [52.64699108]\n"
     ]
    }
   ],
   "source": [
    "from sklearn.linear_model import LinearRegression\n",
    "from sklearn.metrics import mean_squared_error, r2_score\n",
    "\n",
    "\n",
    "model = LinearRegression()\n",
    "model.fit(df[[\"living_space\"]],df[\"price\"])\n",
    "y_pred = model.predict(df[[\"living_space\"]])\n",
    "print(\"Coefficients: \\n\", model.coef_)"
   ]
  },
  {
   "cell_type": "code",
   "execution_count": 18,
   "metadata": {},
   "outputs": [
    {
     "data": {
      "text/plain": [
       "[<matplotlib.lines.Line2D at 0x2089edb7a00>]"
      ]
     },
     "execution_count": 18,
     "metadata": {},
     "output_type": "execute_result"
    },
    {
     "data": {
      "image/png": "[encoded data removed]",
      "text/plain": [
       "<Figure size 432x288 with 1 Axes>"
      ]
     },
     "metadata": {
      "needs_background": "light"
     },
     "output_type": "display_data"
    }
   ],
   "source": [
    "plt.scatter(df[[\"living_space\"]],df[\"price\"], color=\"black\",)\n",
    "plt.xlabel('living space')\n",
    "plt.ylabel('price')\n",
    "plt.plot(df[[\"living_space\"]], y_pred, color=\"red\", linewidth=3)"
   ]
  },
  {
   "cell_type": "code",
   "execution_count": 19,
   "metadata": {},
   "outputs": [
    {
     "name": "stdout",
     "output_type": "stream",
     "text": [
      "<class 'pandas.core.frame.DataFrame'>\n",
      "Int64Index: 92 entries, 88 to 0\n",
      "Data columns (total 12 columns):\n",
      " #   Column          Non-Null Count  Dtype  \n",
      "---  ------          --------------  -----  \n",
      " 0   district        92 non-null     object \n",
      " 1   living_space    92 non-null     float64\n",
      " 2   price           92 non-null     int64  \n",
      " 3   room_count      92 non-null     int32  \n",
      " 4   access_date     23 non-null     object \n",
      " 5   bathroom_count  68 non-null     float64\n",
      " 6   date_added      92 non-null     object \n",
      " 7   owner           88 non-null     object \n",
      " 8   property_type   91 non-null     object \n",
      " 9   link            92 non-null     object \n",
      " 10  smoker          1 non-null      object \n",
      " 11  title           92 non-null     object \n",
      "dtypes: float64(2), int32(1), int64(1), object(8)\n",
      "memory usage: 9.0+ KB\n"
     ]
    }
   ],
   "source": [
    "df[\"room_count\"].replace(['brak',np.nan],0,inplace=True)\n",
    "df[\"room_count\"].replace('Kawalerka',1,inplace=True)\n",
    "df[\"room_count\"]=df[\"room_count\"].astype(int)\n",
    "df.info()"
   ]
  },
  {
   "cell_type": "code",
   "execution_count": 20,
   "metadata": {},
   "outputs": [],
   "source": [
    "pd.isna(df).sum()\n",
    "df[\"bathroom_count\"] =  df[\"bathroom_count\"].fillna(1)"
   ]
  },
  {
   "cell_type": "code",
   "execution_count": 21,
   "metadata": {},
   "outputs": [
    {
     "data": {
      "text/plain": [
       "0.7153390433047313"
      ]
     },
     "execution_count": 21,
     "metadata": {},
     "output_type": "execute_result"
    }
   ],
   "source": [
    "regr_cols = ['living_space','bathroom_count','room_count']\n",
    "from sklearn.model_selection import train_test_split\n",
    "x_train, x_test, y_train, y_test = train_test_split(df[regr_cols], df[\"price\"], test_size=0.2, random_state=0)\n",
    "model2 = LinearRegression()\n",
    "model2.fit(x_train,y_train)\n",
    "y_pred2 = model2.predict(x_test)\n",
    "model2.score(x_train, y_train)"
   ]
  }
 ],
 "metadata": {
  "interpreter": {
   "hash": "f9f85f796d01129d0dd105a088854619f454435301f6ffec2fea96ecbd9be4ac"
  },
  "kernelspec": {
   "display_name": "Python 3.9.7 64-bit",
   "language": "python",
   "name": "python3"
  },
  "language_info": {
   "codemirror_mode": {
    "name": "ipython",
    "version": 3
   },
   "file_extension": ".py",
   "mimetype": "text/x-python",
   "name": "python",
   "nbconvert_exporter": "python",
   "pygments_lexer": "ipython3",
   "version": "3.8.5"
  },
  "orig_nbformat": 4
 },
 "nbformat": 4,
 "nbformat_minor": 2
}
