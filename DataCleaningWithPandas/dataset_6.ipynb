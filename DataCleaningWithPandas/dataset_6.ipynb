{
 "cells": [
  {
   "cell_type": "code",
   "execution_count": 1,
   "metadata": {},
   "outputs": [],
   "source": [
    "import pandas as pd\n",
    "import numpy as np"
   ]
  },
  {
   "cell_type": "code",
   "execution_count": 2,
   "metadata": {},
   "outputs": [],
   "source": [
    "filename = \"data/6.-Hospital-Data-with-Mixed-Numbers-and-Characters.xlsx\"\n",
    "data = pd.read_excel(filename)"
   ]
  },
  {
   "cell_type": "code",
   "execution_count": 3,
   "metadata": {},
   "outputs": [
    {
     "data": {
      "text/html": [
       "<div>\n",
       "<style scoped>\n",
       "    .dataframe tbody tr th:only-of-type {\n",
       "        vertical-align: middle;\n",
       "    }\n",
       "\n",
       "    .dataframe tbody tr th {\n",
       "        vertical-align: top;\n",
       "    }\n",
       "\n",
       "    .dataframe thead th {\n",
       "        text-align: right;\n",
       "    }\n",
       "</style>\n",
       "<table border=\"1\" class=\"dataframe\">\n",
       "  <thead>\n",
       "    <tr style=\"text-align: right;\">\n",
       "      <th></th>\n",
       "      <th>Description</th>\n",
       "      <th>Basic Unit</th>\n",
       "      <th>Beginning Balance</th>\n",
       "      <th>Quantity Received</th>\n",
       "      <th>Quantity Dispensed</th>\n",
       "      <th>Losses and Adjustments</th>\n",
       "      <th>Ending Balance (Physical Count)</th>\n",
       "    </tr>\n",
       "  </thead>\n",
       "  <tbody>\n",
       "    <tr>\n",
       "      <th>0</th>\n",
       "      <td>Tab. Cefuroxime 250mg</td>\n",
       "      <td>10</td>\n",
       "      <td>1000</td>\n",
       "      <td>0</td>\n",
       "      <td>0</td>\n",
       "      <td>0</td>\n",
       "      <td>0</td>\n",
       "    </tr>\n",
       "    <tr>\n",
       "      <th>1</th>\n",
       "      <td>Tab. Cefuroxime 250mg</td>\n",
       "      <td>10</td>\n",
       "      <td>1000</td>\n",
       "      <td>0</td>\n",
       "      <td>0</td>\n",
       "      <td>0</td>\n",
       "      <td>0</td>\n",
       "    </tr>\n",
       "    <tr>\n",
       "      <th>2</th>\n",
       "      <td>Tab. Cefuroxime 250mg</td>\n",
       "      <td>10</td>\n",
       "      <td>1000</td>\n",
       "      <td>0</td>\n",
       "      <td>0</td>\n",
       "      <td>0</td>\n",
       "      <td>0</td>\n",
       "    </tr>\n",
       "    <tr>\n",
       "      <th>3</th>\n",
       "      <td>Cap Ampicillin</td>\n",
       "      <td>100</td>\n",
       "      <td>350</td>\n",
       "      <td>0</td>\n",
       "      <td>0</td>\n",
       "      <td>0</td>\n",
       "      <td>0</td>\n",
       "    </tr>\n",
       "    <tr>\n",
       "      <th>4</th>\n",
       "      <td>Cap Ampicillin</td>\n",
       "      <td>100</td>\n",
       "      <td>350</td>\n",
       "      <td>0</td>\n",
       "      <td>0</td>\n",
       "      <td>0</td>\n",
       "      <td>0</td>\n",
       "    </tr>\n",
       "  </tbody>\n",
       "</table>\n",
       "</div>"
      ],
      "text/plain": [
       "             Description Basic Unit Beginning Balance  Quantity Received   \\\n",
       "0  Tab. Cefuroxime 250mg         10               1000                  0   \n",
       "1  Tab. Cefuroxime 250mg         10               1000                  0   \n",
       "2  Tab. Cefuroxime 250mg         10               1000                  0   \n",
       "3         Cap Ampicillin        100                350                  0   \n",
       "4         Cap Ampicillin        100                350                  0   \n",
       "\n",
       "  Quantity Dispensed  Losses and Adjustments Ending Balance (Physical Count)  \n",
       "0                   0                      0                               0  \n",
       "1                   0                      0                               0  \n",
       "2                   0                      0                               0  \n",
       "3                   0                      0                               0  \n",
       "4                   0                      0                               0  "
      ]
     },
     "execution_count": 3,
     "metadata": {},
     "output_type": "execute_result"
    }
   ],
   "source": [
    "data.head()"
   ]
  },
  {
   "cell_type": "code",
   "execution_count": 4,
   "metadata": {},
   "outputs": [
    {
     "data": {
      "text/plain": [
       "Index(['Description', 'Basic Unit', 'Beginning Balance ', 'Quantity Received ',\n",
       "       'Quantity Dispensed ', 'Losses and Adjustments',\n",
       "       'Ending Balance (Physical Count)'],\n",
       "      dtype='object')"
      ]
     },
     "execution_count": 4,
     "metadata": {},
     "output_type": "execute_result"
    }
   ],
   "source": [
    "data.columns"
   ]
  },
  {
   "cell_type": "code",
   "execution_count": 5,
   "metadata": {},
   "outputs": [
    {
     "name": "stdout",
     "output_type": "stream",
     "text": [
      "<class 'pandas.core.frame.DataFrame'>\n",
      "RangeIndex: 5846 entries, 0 to 5845\n",
      "Data columns (total 7 columns):\n",
      " #   Column                           Non-Null Count  Dtype \n",
      "---  ------                           --------------  ----- \n",
      " 0   Description                      5846 non-null   object\n",
      " 1   Basic Unit                       5846 non-null   object\n",
      " 2   Beginning Balance                5846 non-null   object\n",
      " 3   Quantity Received                5846 non-null   object\n",
      " 4   Quantity Dispensed               5846 non-null   object\n",
      " 5   Losses and Adjustments           5846 non-null   object\n",
      " 6   Ending Balance (Physical Count)  5846 non-null   object\n",
      "dtypes: object(7)\n",
      "memory usage: 319.8+ KB\n"
     ]
    }
   ],
   "source": [
    "data.info()"
   ]
  },
  {
   "cell_type": "code",
   "execution_count": 6,
   "metadata": {},
   "outputs": [],
   "source": [
    "data.loc[:,\"Beginning Balance \":] = data.loc[:,\"Beginning Balance \":].apply(pd.to_numeric,errors=\"coerce\")"
   ]
  },
  {
   "cell_type": "code",
   "execution_count": 7,
   "metadata": {},
   "outputs": [
    {
     "data": {
      "text/plain": [
       "Description                        0\n",
       "Basic Unit                         0\n",
       "Beginning Balance                  2\n",
       "Quantity Received                  7\n",
       "Quantity Dispensed                 4\n",
       "Losses and Adjustments             1\n",
       "Ending Balance (Physical Count)    4\n",
       "dtype: int64"
      ]
     },
     "execution_count": 7,
     "metadata": {},
     "output_type": "execute_result"
    }
   ],
   "source": [
    "data.isna().sum()"
   ]
  },
  {
   "cell_type": "code",
   "execution_count": 8,
   "metadata": {},
   "outputs": [],
   "source": [
    "data.fillna(method=\"ffill\",inplace=True)"
   ]
  },
  {
   "cell_type": "code",
   "execution_count": 9,
   "metadata": {},
   "outputs": [
    {
     "data": {
      "text/html": [
       "<div>\n",
       "<style scoped>\n",
       "    .dataframe tbody tr th:only-of-type {\n",
       "        vertical-align: middle;\n",
       "    }\n",
       "\n",
       "    .dataframe tbody tr th {\n",
       "        vertical-align: top;\n",
       "    }\n",
       "\n",
       "    .dataframe thead th {\n",
       "        text-align: right;\n",
       "    }\n",
       "</style>\n",
       "<table border=\"1\" class=\"dataframe\">\n",
       "  <thead>\n",
       "    <tr style=\"text-align: right;\">\n",
       "      <th></th>\n",
       "      <th>Description</th>\n",
       "      <th>Basic Unit</th>\n",
       "      <th>Beginning Balance</th>\n",
       "      <th>Quantity Received</th>\n",
       "      <th>Quantity Dispensed</th>\n",
       "      <th>Losses and Adjustments</th>\n",
       "      <th>Ending Balance (Physical Count)</th>\n",
       "    </tr>\n",
       "  </thead>\n",
       "  <tbody>\n",
       "    <tr>\n",
       "      <th>0</th>\n",
       "      <td>Tab. Cefuroxime 250mg</td>\n",
       "      <td>10</td>\n",
       "      <td>1000.0</td>\n",
       "      <td>0.0</td>\n",
       "      <td>0.0</td>\n",
       "      <td>0.0</td>\n",
       "      <td>0.0</td>\n",
       "    </tr>\n",
       "    <tr>\n",
       "      <th>1</th>\n",
       "      <td>Tab. Cefuroxime 250mg</td>\n",
       "      <td>10</td>\n",
       "      <td>1000.0</td>\n",
       "      <td>0.0</td>\n",
       "      <td>0.0</td>\n",
       "      <td>0.0</td>\n",
       "      <td>0.0</td>\n",
       "    </tr>\n",
       "    <tr>\n",
       "      <th>2</th>\n",
       "      <td>Tab. Cefuroxime 250mg</td>\n",
       "      <td>10</td>\n",
       "      <td>1000.0</td>\n",
       "      <td>0.0</td>\n",
       "      <td>0.0</td>\n",
       "      <td>0.0</td>\n",
       "      <td>0.0</td>\n",
       "    </tr>\n",
       "    <tr>\n",
       "      <th>3</th>\n",
       "      <td>Cap Ampicillin</td>\n",
       "      <td>100</td>\n",
       "      <td>350.0</td>\n",
       "      <td>0.0</td>\n",
       "      <td>0.0</td>\n",
       "      <td>0.0</td>\n",
       "      <td>0.0</td>\n",
       "    </tr>\n",
       "    <tr>\n",
       "      <th>4</th>\n",
       "      <td>Cap Ampicillin</td>\n",
       "      <td>100</td>\n",
       "      <td>350.0</td>\n",
       "      <td>0.0</td>\n",
       "      <td>0.0</td>\n",
       "      <td>0.0</td>\n",
       "      <td>0.0</td>\n",
       "    </tr>\n",
       "  </tbody>\n",
       "</table>\n",
       "</div>"
      ],
      "text/plain": [
       "             Description Basic Unit  Beginning Balance   Quantity Received   \\\n",
       "0  Tab. Cefuroxime 250mg         10              1000.0                 0.0   \n",
       "1  Tab. Cefuroxime 250mg         10              1000.0                 0.0   \n",
       "2  Tab. Cefuroxime 250mg         10              1000.0                 0.0   \n",
       "3         Cap Ampicillin        100               350.0                 0.0   \n",
       "4         Cap Ampicillin        100               350.0                 0.0   \n",
       "\n",
       "   Quantity Dispensed   Losses and Adjustments  \\\n",
       "0                  0.0                     0.0   \n",
       "1                  0.0                     0.0   \n",
       "2                  0.0                     0.0   \n",
       "3                  0.0                     0.0   \n",
       "4                  0.0                     0.0   \n",
       "\n",
       "   Ending Balance (Physical Count)  \n",
       "0                              0.0  \n",
       "1                              0.0  \n",
       "2                              0.0  \n",
       "3                              0.0  \n",
       "4                              0.0  "
      ]
     },
     "execution_count": 9,
     "metadata": {},
     "output_type": "execute_result"
    }
   ],
   "source": [
    "data.head()"
   ]
  }
 ],
 "metadata": {
  "interpreter": {
   "hash": "d33b87a706de6cc0adad3cd3103589d5a3f13ba35214c2c676ccd10eb06f8218"
  },
  "kernelspec": {
   "display_name": "Python 3.8.5 64-bit ('mlroad': virtualenv)",
   "language": "python",
   "name": "python3"
  },
  "language_info": {
   "codemirror_mode": {
    "name": "ipython",
    "version": 3
   },
   "file_extension": ".py",
   "mimetype": "text/x-python",
   "name": "python",
   "nbconvert_exporter": "python",
   "pygments_lexer": "ipython3",
   "version": "3.8.5"
  },
  "orig_nbformat": 4
 },
 "nbformat": 4,
 "nbformat_minor": 2
}
