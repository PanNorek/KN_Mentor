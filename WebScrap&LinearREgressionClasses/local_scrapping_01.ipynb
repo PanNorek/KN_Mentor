{
 "cells": [
  {
   "cell_type": "markdown",
   "metadata": {},
   "source": [
    "# Web scrapping cz. 1"
   ]
  },
  {
   "cell_type": "markdown",
   "metadata": {},
   "source": [
    "## Podstawy"
   ]
  },
  {
   "cell_type": "markdown",
   "metadata": {},
   "source": [
    "Do pobierania danych ze stron będą potrzebne 3 moduły: <br>\n",
    "pip install beautifulsoup4<br>\n",
    "pip install lxml <br>\n",
    "pip install requests <br><br>\n",
    "<a href=\"https://www.crummy.com/software/BeautifulSoup/bs4/doc/\">Strona z dokumentacją Beautiful Soup</a><br><br>\n",
    "Beautiful Soup supports the HTML parser included in Python’s standard library, but it also supports a number of third-party Python parsers."
   ]
  },
  {
   "cell_type": "markdown",
   "metadata": {},
   "source": [
    "<table class=\"docutils align-default\">\n",
    "<colgroup>\n",
    "<col style=\"width: 18%\" />\n",
    "<col style=\"width: 35%\" />\n",
    "<col style=\"width: 26%\" />\n",
    "<col style=\"width: 21%\" />\n",
    "</colgroup>\n",
    "<tbody>\n",
    "<tr class=\"row-odd\"><td><p>Parser</p></td>\n",
    "<td><p>Typical usage</p></td>\n",
    "<td><p>Advantages</p></td>\n",
    "<td><p>Disadvantages</p></td>\n",
    "</tr>\n",
    "<tr class=\"row-even\"><td><p>Python’s html.parser</p></td>\n",
    "<td><p><code class=\"docutils literal notranslate\"><span class=\"pre\">BeautifulSoup(markup,</span> <span class=\"pre\">&quot;html.parser&quot;)</span></code></p></td>\n",
    "<td><ul class=\"simple\">\n",
    "<li><p>Batteries included</p></li>\n",
    "<li><p>Decent speed</p></li>\n",
    "<li><p>Lenient (As of Python 2.7.3\n",
    "and 3.2.)</p></li>\n",
    "</ul>\n",
    "</td>\n",
    "<td><ul class=\"simple\">\n",
    "<li><p>Not as fast as lxml,\n",
    "less lenient than\n",
    "html5lib.</p></li>\n",
    "</ul>\n",
    "</td>\n",
    "</tr>\n",
    "<tr class=\"row-odd\"><td><p>lxml’s HTML parser</p></td>\n",
    "<td><p><code class=\"docutils literal notranslate\"><span class=\"pre\">BeautifulSoup(markup,</span> <span class=\"pre\">&quot;lxml&quot;)</span></code></p></td>\n",
    "<td><ul class=\"simple\">\n",
    "<li><p>Very fast</p></li>\n",
    "<li><p>Lenient</p></li>\n",
    "</ul>\n",
    "</td>\n",
    "<td><ul class=\"simple\">\n",
    "<li><p>External C dependency</p></li>\n",
    "</ul>\n",
    "</td>\n",
    "</tr>\n",
    "<tr class=\"row-even\"><td><p>lxml’s XML parser</p></td>\n",
    "<td><p><code class=\"docutils literal notranslate\"><span class=\"pre\">BeautifulSoup(markup,</span> <span class=\"pre\">&quot;lxml-xml&quot;)</span></code>\n",
    "<code class=\"docutils literal notranslate\"><span class=\"pre\">BeautifulSoup(markup,</span> <span class=\"pre\">&quot;xml&quot;)</span></code></p></td>\n",
    "<td><ul class=\"simple\">\n",
    "<li><p>Very fast</p></li>\n",
    "<li><p>The only currently supported\n",
    "XML parser</p></li>\n",
    "</ul>\n",
    "</td>\n",
    "<td><ul class=\"simple\">\n",
    "<li><p>External C dependency</p></li>\n",
    "</ul>\n",
    "</td>\n",
    "</tr>\n",
    "<tr class=\"row-odd\"><td><p>html5lib</p></td>\n",
    "<td><p><code class=\"docutils literal notranslate\"><span class=\"pre\">BeautifulSoup(markup,</span> <span class=\"pre\">&quot;html5lib&quot;)</span></code></p></td>\n",
    "<td><ul class=\"simple\">\n",
    "<li><p>Extremely lenient</p></li>\n",
    "<li><p>Parses pages the same way a\n",
    "web browser does</p></li>\n",
    "<li><p>Creates valid HTML5</p></li>\n",
    "</ul>\n",
    "</td>\n",
    "<td><ul class=\"simple\">\n",
    "<li><p>Very slow</p></li>\n",
    "<li><p>External Python\n",
    "dependency</p></li>\n",
    "</ul>\n",
    "</td>\n",
    "</tr>\n",
    "</tbody>\n",
    "</table>"
   ]
  },
  {
   "cell_type": "code",
   "execution_count": 1,
   "metadata": {},
   "outputs": [
    {
     "ename": "ModuleNotFoundError",
     "evalue": "No module named 'bs4'",
     "output_type": "error",
     "traceback": [
      "\u001b[1;31m---------------------------------------------------------------------------\u001b[0m",
      "\u001b[1;31mModuleNotFoundError\u001b[0m                       Traceback (most recent call last)",
      "\u001b[1;32m~\\AppData\\Local\\Temp/ipykernel_14528/621730835.py\u001b[0m in \u001b[0;36m<module>\u001b[1;34m\u001b[0m\n\u001b[1;32m----> 1\u001b[1;33m \u001b[1;32mfrom\u001b[0m \u001b[0mbs4\u001b[0m \u001b[1;32mimport\u001b[0m \u001b[0mBeautifulSoup\u001b[0m\u001b[1;33m\u001b[0m\u001b[1;33m\u001b[0m\u001b[0m\n\u001b[0m\u001b[0;32m      2\u001b[0m \u001b[1;32mimport\u001b[0m \u001b[0mrequests\u001b[0m\u001b[1;33m\u001b[0m\u001b[1;33m\u001b[0m\u001b[0m\n",
      "\u001b[1;31mModuleNotFoundError\u001b[0m: No module named 'bs4'"
     ]
    }
   ],
   "source": [
    "from bs4 import BeautifulSoup\n",
    "import requests"
   ]
  },
  {
   "cell_type": "code",
   "execution_count": null,
   "metadata": {},
   "outputs": [
    {
     "data": {
      "text/plain": [
       "bs4.element.Tag"
      ]
     },
     "execution_count": 3,
     "metadata": {},
     "output_type": "execute_result"
    }
   ],
   "source": [
    "soup = BeautifulSoup('<b class=\"boldest\">Extremely bold</b>', 'html.parser')\n",
    "tag = soup.b\n",
    "type(tag)"
   ]
  },
  {
   "cell_type": "code",
   "execution_count": null,
   "metadata": {},
   "outputs": [
    {
     "data": {
      "text/plain": [
       "['body', 'strikeout']"
      ]
     },
     "execution_count": 3,
     "metadata": {},
     "output_type": "execute_result"
    }
   ],
   "source": [
    "css_soup = BeautifulSoup('<p class=\"body strikeout\"></p>', 'html.parser')\n",
    "css_soup.p['class']"
   ]
  },
  {
   "cell_type": "markdown",
   "metadata": {},
   "source": [
    "### Bardziej rozsądny uchwyt dostępu do pliku"
   ]
  },
  {
   "cell_type": "code",
   "execution_count": null,
   "metadata": {},
   "outputs": [],
   "source": [
    "with open('data//index.html', 'r') as html_file:\n",
    "    content = html_file.read()\n",
    "    # html_file <- markup file object to scrap info, 'lxml' <- parser\n",
    "    soup = BeautifulSoup(html_file, 'lxml')"
   ]
  },
  {
   "cell_type": "code",
   "execution_count": null,
   "metadata": {},
   "outputs": [
    {
     "data": {
      "text/plain": [
       "_io.TextIOWrapper"
      ]
     },
     "execution_count": 5,
     "metadata": {},
     "output_type": "execute_result"
    }
   ],
   "source": [
    "html_file = open('data//index.html', 'r')\n",
    "# html_file <- file object to scrap info, 'lxml' <- parser\n",
    "soup = BeautifulSoup(html_file, 'lxml')"
   ]
  },
  {
   "cell_type": "markdown",
   "metadata": {},
   "source": [
    "Podgląd strony"
   ]
  },
  {
   "cell_type": "code",
   "execution_count": null,
   "metadata": {},
   "outputs": [
    {
     "name": "stdout",
     "output_type": "stream",
     "text": [
      "<!DOCTYPE html>\n",
      "<html lang=\"en\">\n",
      " <head>\n",
      "  <meta charset=\"utf-8\"/>\n",
      "  <meta content=\"width=device-width, initial-scale=1, shrink-to-fit=no\" name=\"viewport\"/>\n",
      "  <link crossorigin=\"anonymous\" href=\"https://stackpath.bootstrapcdn.com/bootstrap/4.5.2/css/bootstrap.min.css\" integrity=\"sha384-JcKb8q3iqJ61gNV9KGb8thSsNjpSL0n8PARn9HuZOnIxN0hoP+VmmDGMN5t9UJ0Z\" rel=\"stylesheet\"/>\n",
      "  <title>\n",
      "   My Courses\n",
      "  </title>\n",
      " </head>\n",
      " <body>\n",
      "  <h1>\n",
      "   Hello, Start Learning!\n",
      "  </h1>\n",
      "  <div class=\"card\" id=\"card-python-for-beginners\">\n",
      "   <div class=\"card-header\">\n",
      "    Python\n",
      "   </div>\n",
      "   <div class=\"card-body\">\n",
      "    <h5 class=\"card-title\">\n",
      "     Python for beginners\n",
      "    </h5>\n",
      "    <p class=\"card-text\">\n",
      "     Lorem ipsum, dolor sit amet consectetur adipisicing elit. Corrupti modi dicta quas alias labore dolorem nulla iusto accusantium! Ut dolores tempore ad, dicta rem illum qui itaque voluptatum quisquam nulla?\n",
      "    </p>\n",
      "    <a class=\"btn btn-primary\" href=\"#\">\n",
      "     Start for 20$\n",
      "    </a>\n",
      "   </div>\n",
      "  </div>\n",
      "  <div class=\"card\" id=\"card-python-web-development\">\n",
      "   <div class=\"card-header\">\n",
      "    Python\n",
      "   </div>\n",
      "   <div class=\"card-body\">\n",
      "    <h5 class=\"card-title\">\n",
      "     Python Web Development\n",
      "    </h5>\n",
      "    <p class=\"card-text\">\n",
      "     Lorem ipsum dolor sit amet consectetur, adipisicing elit. Illum enim nulla beatae incidunt, hic iste voluptates odio sequi reiciendis veniam temporibus quibusdam expedita ab provident odit tenetur cum repudiandae nam.\n",
      "    </p>\n",
      "    <a class=\"btn btn-primary\" href=\"#\">\n",
      "     Start for 50$\n",
      "    </a>\n",
      "   </div>\n",
      "  </div>\n",
      "  <div class=\"card\" id=\"card-python-machine-learning\">\n",
      "   <div class=\"card-header\">\n",
      "    Python\n",
      "   </div>\n",
      "   <div class=\"card-body\">\n",
      "    <h5 class=\"card-title\">\n",
      "     Python Machine Learning\n",
      "    </h5>\n",
      "    <p class=\"card-text\">\n",
      "     Lorem ipsum dolor sit amet, consectetur adipisicing elit. Numquam perferendis cupiditate ad rem? Veritatis nulla fugiat deserunt obcaecati vitae. At explicabo dignissimos voluptatum porro pariatur sint incidunt voluptate quibusdam delectus!\n",
      "    </p>\n",
      "    <a class=\"btn btn-primary\" href=\"#\">\n",
      "     Start for 100$\n",
      "    </a>\n",
      "   </div>\n",
      "  </div>\n",
      " </body>\n",
      "</html>\n"
     ]
    }
   ],
   "source": [
    "print(soup.prettify())\n"
   ]
  },
  {
   "cell_type": "markdown",
   "metadata": {},
   "source": [
    "## Wydobywanie konkretnych informacji z pliku"
   ]
  },
  {
   "cell_type": "code",
   "execution_count": null,
   "metadata": {},
   "outputs": [
    {
     "data": {
      "text/plain": [
       "{'parser_class': bs4.BeautifulSoup,\n",
       " 'name': 'h5',\n",
       " 'namespace': None,\n",
       " 'prefix': None,\n",
       " 'known_xml': False,\n",
       " 'attrs': {'class': ['card-title']},\n",
       " 'contents': ['Python for beginners'],\n",
       " 'parent': <div class=\"card-body\">\n",
       " <h5 class=\"card-title\">Python for beginners</h5>\n",
       " <p class=\"card-text\">Lorem ipsum, dolor sit amet consectetur adipisicing elit. Corrupti modi dicta quas alias labore dolorem nulla iusto accusantium! Ut dolores tempore ad, dicta rem illum qui itaque voluptatum quisquam nulla?</p>\n",
       " <a class=\"btn btn-primary\" href=\"#\">Start for 20$</a>\n",
       " </div>,\n",
       " 'previous_element': '\\n',\n",
       " 'next_element': 'Python for beginners',\n",
       " 'next_sibling': '\\n',\n",
       " 'previous_sibling': '\\n',\n",
       " 'hidden': False,\n",
       " 'can_be_empty_element': False,\n",
       " 'cdata_list_attributes': {'*': ['class', 'accesskey', 'dropzone'],\n",
       "  'a': ['rel', 'rev'],\n",
       "  'link': ['rel', 'rev'],\n",
       "  'td': ['headers'],\n",
       "  'th': ['headers'],\n",
       "  'form': ['accept-charset'],\n",
       "  'object': ['archive'],\n",
       "  'area': ['rel'],\n",
       "  'icon': ['sizes'],\n",
       "  'iframe': ['sandbox'],\n",
       "  'output': ['for']},\n",
       " 'preserve_whitespace_tags': {'pre', 'textarea'},\n",
       " 'interesting_string_types': (bs4.element.NavigableString, bs4.element.CData)}"
      ]
     },
     "execution_count": 14,
     "metadata": {},
     "output_type": "execute_result"
    }
   ],
   "source": [
    "tags = soup.find('h5')\n",
    "vars(tags) # == tags.__dict__\n",
    "# type(tags)\n"
   ]
  },
  {
   "cell_type": "code",
   "execution_count": null,
   "metadata": {},
   "outputs": [
    {
     "data": {
      "text/plain": [
       "[<h5 class=\"card-title\">Python for beginners</h5>,\n",
       " <h5 class=\"card-title\">Python Web Development</h5>,\n",
       " <h5 class=\"card-title\">Python Machine Learning</h5>]"
      ]
     },
     "execution_count": 15,
     "metadata": {},
     "output_type": "execute_result"
    }
   ],
   "source": [
    "tags = soup.find_all('h5')\n",
    "tags\n",
    "# type(tags[0])"
   ]
  },
  {
   "cell_type": "code",
   "execution_count": null,
   "metadata": {},
   "outputs": [
    {
     "data": {
      "text/plain": [
       "['Python for beginners', 'Python Web Development', 'Python Machine Learning']"
      ]
     },
     "execution_count": 17,
     "metadata": {},
     "output_type": "execute_result"
    }
   ],
   "source": [
    "[x.text for x in tags]"
   ]
  },
  {
   "cell_type": "markdown",
   "metadata": {},
   "source": [
    "### Filtrowanie znaczników po konkretnej klasie, id"
   ]
  },
  {
   "cell_type": "code",
   "execution_count": null,
   "metadata": {},
   "outputs": [
    {
     "data": {
      "text/plain": [
       "['Python for beginners', 'Python Web Development', 'Python Machine Learning']"
      ]
     },
     "execution_count": 28,
     "metadata": {},
     "output_type": "execute_result"
    }
   ],
   "source": [
    "# Uwaga nazwa class to nazwa wbudowana w pythonie (nie można jej przypisać do zmiennej)\n",
    "course_cards = soup.find_all('div', class_='card')\n",
    "# [course for course in course_cards]\n",
    "[course.h5.text for course in course_cards]\n"
   ]
  },
  {
   "cell_type": "code",
   "execution_count": null,
   "metadata": {},
   "outputs": [
    {
     "data": {
      "text/plain": [
       "['Start for 20$', 'Start for 50$', 'Start for 100$']"
      ]
     },
     "execution_count": 30,
     "metadata": {},
     "output_type": "execute_result"
    }
   ],
   "source": [
    "[course.a.text for course in course_cards]"
   ]
  },
  {
   "cell_type": "code",
   "execution_count": null,
   "metadata": {},
   "outputs": [
    {
     "data": {
      "text/plain": [
       "['20$', '50$', '100$']"
      ]
     },
     "execution_count": 37,
     "metadata": {},
     "output_type": "execute_result"
    }
   ],
   "source": [
    "[course.a.text.split()[-1] for course in course_cards]\n",
    "# [course.a.text.split()[-1][0:2] for course in course_cards]\n",
    "# [int(course.a.text.split()[-1][0:2]) for course in course_cards]"
   ]
  },
  {
   "cell_type": "markdown",
   "metadata": {},
   "source": [
    "## Pobieranie danych ze stron z wykorzystaniem requests"
   ]
  },
  {
   "cell_type": "code",
   "execution_count": null,
   "metadata": {},
   "outputs": [
    {
     "data": {
      "text/plain": [
       "<Response [200]>"
      ]
     },
     "execution_count": 41,
     "metadata": {},
     "output_type": "execute_result"
    }
   ],
   "source": [
    "r = requests.get('https://www.zarz.agh.edu.pl/')\n",
    "# assert r.status_code == 200\n",
    "r"
   ]
  },
  {
   "cell_type": "code",
   "execution_count": null,
   "metadata": {},
   "outputs": [
    {
     "data": {
      "text/plain": [
       "[<h2>Witamy na stronie Wydziału Zarządzania AGH</h2>,\n",
       " <h2>AKTUALNOŚCI</h2>,\n",
       " <h2 style=\"text-align: left;\"><strong></strong></h2>,\n",
       " <h2 style=\"text-align: left;\"><strong></strong></h2>,\n",
       " <h2 style=\"text-align: left;\"><strong></strong></h2>,\n",
       " <h2 style=\"text-align: left;\"><strong>W ramach cyklu „Szkolenia z Przemysłem” –  spotkanie z firmą Elettric80 sp. z o.o. </strong><strong><br/></strong></h2>,\n",
       " <h2 style=\"text-align: left;\"><strong></strong></h2>,\n",
       " <h2 style=\"text-align: left;\"><strong></strong></h2>,\n",
       " <h2 style=\"text-align: left;\"><strong></strong></h2>,\n",
       " <h2 style=\"text-align: left;\"><strong>„SZKOLENIA Z PRZEMYSŁEM” – cykl spotkań z przedstawicielami z przemysłu dla studentów Wydziału Zarządzania</strong><strong> <br/></strong></h2>,\n",
       " <h2 style=\"text-align: left;\"><strong></strong></h2>,\n",
       " <h2 style=\"text-align: left;\"><strong></strong></h2>,\n",
       " <h2 style=\"text-align: left;\"><strong></strong></h2>,\n",
       " <h2 style=\"text-align: left;\"><strong>Wirtualne Targi Pracy AGH – edycja jesienna 2021</strong></h2>,\n",
       " <h2 style=\"text-align: left;\"><strong>Nowy Habilitant na Wydziale Zarządzania</strong><strong> <br/></strong></h2>,\n",
       " <h2 style=\"text-align: left;\"><strong>Sympozjum Kół Naukowych Wydziału Zarządzania  <br/></strong></h2>,\n",
       " <h2 style=\"text-align: left;\"><strong></strong></h2>,\n",
       " <h2 style=\"text-align: left;\"><strong></strong></h2>,\n",
       " <h2 style=\"text-align: left;\"><strong></strong></h2>,\n",
       " <h2 style=\"text-align: left;\"><strong>„Nauka i Biznes – wspólne wyzwania” – konferencja naukowa na Wydziale Zarządzania <br/></strong></h2>,\n",
       " <h2 style=\"text-align: left;\"><strong>XXI Międzynarodowa Konferencja Naukowa „Zarządzanie Przedsiębiorstwem – Teoria i Praktyka” <br/></strong></h2>,\n",
       " <h2 style=\"text-align: justify;\"><strong>„Smart City dla mieszkańców i środowiska”<br/></strong></h2>,\n",
       " <h2 style=\"text-align: justify;\"><strong>Inauguracja roku akademickiego 2021/2022 na Wydziale Zarządzania<br/></strong></h2>,\n",
       " <h2 style=\"text-align: justify;\"><strong>Porozumienie w sprawie wspólnej realizacji projektu o nazwie Energy Entrepreneurs in Action<br/></strong></h2>,\n",
       " <h2 style=\"text-align: justify;\"></h2>,\n",
       " <h2 style=\"text-align: justify;\"></h2>,\n",
       " <h2 style=\"text-align: justify;\"><strong>Porozumienie z Grupą KĘTY S.A. w sprawie praktyk online dla studentów Wydziału Zarządzania AGH<br/></strong></h2>,\n",
       " <h2 style=\"text-align: justify;\"></h2>,\n",
       " <h2 style=\"text-align: justify;\"></h2>,\n",
       " <h2 style=\"text-align: justify;\"><strong></strong><strong>Media społecznościowe WZ AGH<br/></strong></h2>,\n",
       " <h2 style=\"text-align: justify;\"></h2>,\n",
       " <h2 style=\"text-align: justify;\"></h2>,\n",
       " <h2 style=\"text-align: justify;\"><strong>XXI Rajd Managera WZ AGH 2021<br/></strong></h2>,\n",
       " <h2 style=\"text-align: justify;\"></h2>,\n",
       " <h2 style=\"text-align: justify;\"></h2>,\n",
       " <h2 style=\"text-align: justify;\"><strong>MakerBot Engineering Innovation Lab. – Autoryzowaną Pracownią Pomiarową SMARTTECH <br/></strong></h2>,\n",
       " <h2 style=\"text-align: justify;\"></h2>,\n",
       " <h2 style=\"text-align: justify;\"><strong>Da Vinci Studio Sp. z o.o. – nowym partnerem w biznesie<br/></strong></h2>,\n",
       " <h2 style=\"text-align: justify;\"></h2>,\n",
       " <h2 style=\"text-align: justify;\"><strong>Grupa MASPEX Sp. z o.o. dołączyła do grona partnerów Wydziału Zarządzania AGH<br/></strong></h2>,\n",
       " <h2 style=\"text-align: justify;\"><strong>Dr inż. Sławomir Ziółkowski – beneficjentem projektu AGH „Inkubator Innowacyjności 4.0”</strong></h2>,\n",
       " <h2 style=\"text-align: justify;\"><strong>Zarządzanie i Inżynieria Produkcji na drugim miejscu w rankingu kierunków studiów inżynierskich „Perspektywy”  <br/></strong></h2>,\n",
       " <h2 style=\"text-align: justify;\"><strong>Studenci Wydziału Zarządzania w gronie zwycięzców maratonu programowania z okazji 60-lecia KGHM Polska Miedź S.A.</strong></h2>,\n",
       " <h2 style=\"text-align: justify;\"><strong>Automatyzacja druku 3D – sukces w obszarze integracji systemów<br/></strong></h2>,\n",
       " <h2 style=\"text-align: justify;\"><strong>Porozumienie o współpracy z Quality Austria-Polska Sp. z o.o.</strong></h2>,\n",
       " <h2 style=\"text-align: justify;\"><strong>Porozumienie o współpracy z Kelvin Sp. z o.o.</strong></h2>,\n",
       " <h2 style=\"text-align: justify;\"><strong>„Young Researchers’ Innovative Ideas: Science – Start-Ups – Industry” 2021<br/></strong></h2>,\n",
       " <h2 style=\"text-align: justify;\"><strong>Wirtualny Dzień Otwarty  Wydziału Zarządzania AGH zakończony sukcesem!<br/></strong></h2>,\n",
       " <h2 style=\"text-align: justify;\"><strong>Prof. Joanna Kulczycka – Prodziekan ds. Współpracy i Rozwoju WZ wśród 25 polskich liderek zrównoważonego rozwoju listy Forbes Women </strong></h2>,\n",
       " <h2 style=\"text-align: justify;\"><strong>W dniu 18 marca 2021 r. odbyło się Sympozjum Kół Naukowych WZ AGH</strong> </h2>,\n",
       " <h2 style=\"text-align: justify;\"><strong>Pracownicy Wydziału Zarządzania na forum Komisji Europejskiej</strong></h2>,\n",
       " <h2 style=\"text-align: justify;\"><strong>Nowe laboratorium inżynierskie na Wydziale Zarządzania</strong></h2>,\n",
       " <h2 style=\"text-align: justify;\"><strong>Wydział Zarządzania w programie CEEPUS</strong></h2>,\n",
       " <h2 style=\"text-align: justify;\"><strong>Umowa o współpracy z MPEC S.A.</strong></h2>,\n",
       " <h2 style=\"text-align: justify;\"><strong>Umowa o współpracy z ALFA LAVAL KRAKÓW sp. z o.o.</strong></h2>,\n",
       " <h2 style=\"text-align: justify;\"><strong>Listy gratulacyjne dla wyjątkowych pracowników Wydziału Zarządzania</strong></h2>,\n",
       " <h2 style=\"text-align: left;\"><strong>Wydział Zarządzania AGH wysoko w Rankingu Szkół Wyższych</strong></h2>,\n",
       " <h2>STUDIA – Atrakcyjna oferta kształcenia przez całe życie</h2>,\n",
       " <h2>ORGANIZACJA – Przyjazne warunki rozwoju zawodowego i naukowego</h2>,\n",
       " <h2>WYDZIAŁ – Nowoczesna infrastruktura naukowo-dydaktyczna</h2>,\n",
       " <h2>O NAS</h2>,\n",
       " <h2>NAUKA – Kreowanie i transfer innowacyjnej wiedzy ekonomicznej i technicznej</h2>]"
      ]
     },
     "execution_count": 47,
     "metadata": {},
     "output_type": "execute_result"
    }
   ],
   "source": [
    "soup = BeautifulSoup(r.text ,'lxml')\n",
    "info = soup.find_all('h2')\n",
    "info"
   ]
  },
  {
   "cell_type": "code",
   "execution_count": null,
   "metadata": {},
   "outputs": [
    {
     "data": {
      "text/plain": [
       "[<p style=\"text-align: justify;\">Szkolenia w ramach cyklu „Szkolenia z Przemysłem” są szansą i ofertą skierowaną do studentów AGH i nie są realizowane w ramach zajęć – jest to wyjątkowa okazja do nawiązania bezpośredniego kontaktu z daną firmą. W dniu 17 listopada 2021 r. w godz. 14.00-15.30 odbędzie się na Wydziale Zarządzania szkolenie nt. „Systemy Bezpieczeństwa (tzw. safety) w robotach autonomicznych LGV/AGV” prowadzone przez firmę Elettric80 sp. z o.o.</p>,\n",
       " <p style=\"text-align: justify;\"></p>,\n",
       " <p style=\"text-align: justify;\">10 listopada 2021 r. odbyło się spotkanie w ramach cyklu „Szkolenia z przemysłem” – tym razem z grupą Maspex Sp. z o.o. na temat <em>Procesu zarządzania i finansowania innowacji w Grupie Maspex Sp. z o.o.</em>   </p>,\n",
       " <p style=\"text-align: justify;\"></p>,\n",
       " <p style=\"text-align: justify;\">Centrum Karier AGH zaprasza do udziału w jesiennej edycji Targów Pracy AGH. Wydarzenie, które odbędzie się w dniach 16–18 listopada 2021 r. w formule wirtualnej, obejmie warsztaty i prezentacje tematyczne, rozmowy z przedstawicielami aż 60 firm, dostęp do tablicy ofert pracy z możliwością aplikowania, konsultacje CV oraz porady prawnika dotyczące prawa pracy.</p>,\n",
       " <p style=\"text-align: justify;\"></p>,\n",
       " <p style=\"text-align: justify;\">Z radością informujemy, że Rada Dyscypliny Ekonomia i Finanse Uniwersytetu Ekonomicznego w Krakowie nadała Panu dr. Tomaszowi Wójtowiczowi – adiunktowi Samodzielnej Pracowni Zastosowań Matematyki w Ekonomii na Wydziale Zarządzania AGH stopień doktora habilitowanego nauk społecznych w dyscyplinie ekonomia i finanse.</p>,\n",
       " <p style=\"text-align: justify;\">Serdecznie gratulujemy! </p>,\n",
       " <p style=\"text-align: justify;\"><strong></strong>W dniach 25-27 listopada 2021 r. odbędzie się w Racławicach XXI Międzynarodowa Konferencja Naukowa „Zarządzanie Przedsiębiorstwem – Teoria i Praktyka”. Patronat honorowy nad konferencją sprawuje Rektor Akademii Górniczo-Hutniczej im. Stanisława Staszica w Krakowie – prof. dr hab. inż. Jerzy Lis. Organizatorem konferencji jest Wydział Zarządzania AGH oraz Komitet Inżynierii Produkcji Polskiej Akademii Nauk. Więcej informacji na stronie konferencji: <a href=\"http://www.kzp.zarz.agh.edu.pl/index0.php\">http://www.kzp.zarz.agh.edu.pl/index0.php</a></p>,\n",
       " <p style=\"text-align: justify;\"><strong>21 października 2021 r. </strong>w Międzynarodowym Centrum Kultury w Krakowie odbyła się konferencja rozpoczynająca cykl seminariów mających na celu zaprezentowanie poziomu zaawansowania samorządów we wdrażaniu zasad zrównoważonego rozwoju, koncepcji Smart City, Smart Villages, gospodarki obiegu zamkniętego oraz odporności miast.  Wydział Zarządzania Akademii Górniczo-Hutniczej im. Stanisława Staszica jest partonem konferencji. Więcej informacji na stronie: <a href=\"https://www.zarz.agh.edu.pl/index.php/nauka/\">https://www.zarz.agh.edu.pl/index.php/nauka/</a></p>,\n",
       " <p style=\"text-align: justify;\">\n",
       " </p>,\n",
       " <p style=\"text-align: justify;\">\n",
       " </p>,\n",
       " <p style=\"text-align: justify;\">W dniu 15 lipca 2021 r. Wydział Zarządzania Akademii Górniczo-Hutniczej im. Stanisława Staszica w Krakowie zawarł porozumienie z Grupą KĘTY Spółką Akcyjną dotyczące organizacji i realizacji nieodpłatnej studenckiej praktyki dyplomowej online dla studentów Wydziału Zarządzania AGH kierunku Zarządzanie i Inżynieria Produkcji, Zarządzanie oraz Informatyka i Ekonometria.  Studenci nabędą praktyczne umiejętności i poznają specyfikę przyszłego zawodu.</p>,\n",
       " <p style=\"text-align: justify;\">\n",
       " </p>,\n",
       " <p style=\"text-align: justify;\">\n",
       " </p>,\n",
       " <p style=\"text-align: justify;\"><a href=\"https://www.zarz.agh.edu.pl/index.php/studia-stacjonarne-i-niestacjonarne/\"></a></p>,\n",
       " <p style=\"text-align: justify;\">Zapraszamy na nasze platformy społecznościowe:</p>,\n",
       " <p style=\"text-align: justify;\">\n",
       " </p>,\n",
       " <p style=\"text-align: justify;\">\n",
       " </p>,\n",
       " <p style=\"text-align: justify;\"><a href=\"https://www.zarz.agh.edu.pl/index.php/studia-stacjonarne-i-niestacjonarne/\"></a></p>,\n",
       " <p style=\"text-align: justify;\">To już po raz 21 studenci Wydziału Zarządzania AGH zorganizowali swój tradycyjny Rajd Managera. W dniach 25-27 czerwca 2021 r. w Porębie Wielkiej odbyła się impreza „na góralską nutę” . Świetna zabawa i niezapomniane wrażenia dla każdego!</p>,\n",
       " <p style=\"text-align: justify;\"><a href=\"https://www.zarz.agh.edu.pl/index.php/studia-stacjonarne-i-niestacjonarne/\"></a></p>,\n",
       " <p style=\"text-align: justify;\">Nowoczesne laboratorium inżynierskie na Wydziale Zarządzania Akademii Górniczo-Hutniczej im. Stanisława Staszica w Krakowie uzyskało status Autoryzowanej Pracowni Pomiarowej SMARTTECH. Posiadamy odpowiedni sprzęt pomiarowy oraz jesteśmy przeszkoleni z zakresu obsługi skanera MICRON3D green oraz oprogramowania SMARTTECH3Dmeasure i pakietu Geomagic.</p>,\n",
       " <p style=\"text-align: justify;\"><a href=\"https://www.zarz.agh.edu.pl/index.php/studia-stacjonarne-i-niestacjonarne/\"></a></p>,\n",
       " <p style=\"text-align: justify;\">W dniu 7 lipca 2021 r. Wydział Zarządzania Akademii Górniczo-Hutniczej im. Stanisława Staszica w Krakowie zawarł kolejne porozumienie o współpracy, tym razem z firmą Da Vinci Studio Sp. z o.o.  Strony ustalają, że współpraca będzie polegała m. in. na realizacji projektów wdrożeniowych i pilotażowych w zakresie innowacyjnych rozwiązań w sektorze przemysł 4.0, cyfryzacji oraz rozwiązań wykorzystujących sztuczną inteligencję.</p>,\n",
       " <p style=\"text-align: justify;\"><a href=\"https://www.zarz.agh.edu.pl/index.php/studia-stacjonarne-i-niestacjonarne/\"></a></p>,\n",
       " <p style=\"text-align: justify;\">W dniu 1 lipca 2021 r. Wydział Zarządzania AGH i Grupa MASPEX Sp. z o.o. podpisały porozumienie o współpracy, której celem jest nawiązanie długoterminowego współdziałania. Strony deklarują  zamiar współpracy w zakresie badań marketingowych i wspierania rozwiązań na rzecz wdrażania modeli gospodarki o obiegu zamkniętym. AGH będzie wspierać Maspex w realizacji Agendy Badawczej w związku z przeprowadzonym projektem utworzenia Centrum Badawczo-Rozwojowego Grupy Maspex, w obszarze analiz behawioralnych shopperów, geomarketingu oraz optymalizacji potencjałów sprzedażowych.</p>,\n",
       " <p style=\"text-align: justify;\"><a href=\"https://www.zarz.agh.edu.pl/index.php/studia-stacjonarne-i-niestacjonarne/\"></a></p>,\n",
       " <p style=\"text-align: justify;\">W konkursie na realizację prac przedwdrożeniowych finansowanych w 100% z projektu „Inkubator Innowacyjności 4.0” – adiunkt Wydziału Zarządzania dr inż. Sławomir Ziółkowski uzyskał wsparcie finansowe dla projektu z obszaru rozwoju zasobów ludzkich.</p>,\n",
       " <p style=\"text-align: justify;\">Gratulujemy!</p>,\n",
       " <p style=\"text-align: justify;\">Organizatorem konkursu jest Centrum Transferu Technologii AGH. Więcej o projekcie „Inkubator Innowacyjności 4.0” na stronie: <a href=\"http://www.ctt.agh.edu.pl/inkubator-innowacyjnosci-40/\">http://www.ctt.agh.edu.pl/inkubator-innowacyjnosci-40/</a></p>,\n",
       " <p style=\"text-align: justify;\"><a href=\"https://www.zarz.agh.edu.pl/index.php/studia-stacjonarne-i-niestacjonarne/\"></a></p>,\n",
       " <p style=\"text-align: justify;\">W tegorocznym Rankingu Szkół Wyższych, przygotowanym przez Portal Edukacyjny Perspektywy,  AGH zajęła piąte miejsce w Polsce w zestawieniu ogólnym uczelni akademickich oraz drugie miejsce w rankingu studiów inżynierskich.</p>,\n",
       " <p style=\"text-align: justify;\">Zapraszamy na Wydział Zarządzania, który ma w swojej ofercie Kierunek Zarządzanie i Inżynieria Produkcji <a href=\"https://www.zarz.agh.edu.pl/index.php/studia-stacjonarne-i-niestacjonarne/\">https://www.zarz.agh.edu.pl/index.php/studia-stacjonarne-i-niestacjonarne/</a><span style=\"font-family: Verdana; font-weight: normal;\"></span></p>,\n",
       " <p style=\"text-align: justify;\">\n",
       " </p>,\n",
       " <p style=\"text-align: justify;\">W pierwszym hackathonie organizowanym przez KGHM CuValley Hack 2021 nasi studenci Mateusz Jakubczak, Karol Oleszek oraz Krzysztof Olipra zdobyli I miejsce w kategorii <strong>STABILIZACJA PRACY PIECA ZAWIESINOWEGO</strong> (Zespół Data Drivers).<span style=\"font-family: Verdana; font-weight: normal;\"></span></p>,\n",
       " <p style=\"text-align: justify;\">Gratulujemy!<span style=\"font-family: Verdana; font-weight: normal;\"></span></p>,\n",
       " <p style=\"text-align: justify;\"><span style=\"font-family: Verdana; font-weight: normal;\">Na Wydziale Zarządzania Akademii Górniczo-Hutniczej w Krakowie w pracowni MakerBot Engineering Innovation LabProjekt powstał demonstracyjny koncept zautomatyzowanej farmy drukarek 3D. Jest to kolejna funkcjonalność, którą zyskuje nasze laboratorium a która to pozwala na przyspieszenie procesu wydruku 3D. Współpraca Wydziału, CadXpert i Drim Robotics – dostawcą systemów do automatyzacji produkcji i partnerem marki Universal Robots – zaowocowała przygotowaniem zrobotyzowanego stanowiska druku 3D. Szczegóły w materiale filmowym. </span></p>,\n",
       " <p style=\"text-align: justify;\">W dniu 7 czerwca 2021 r. Wydział Zarządzania Akademii Górniczo-Hutniczej im. Stanisława Staszica w Krakowie zawarł kolejne porozumienie o współpracy, tym razem z firmą Quality Austria-Polska Sp. z o.o.</p>,\n",
       " <p style=\"text-align: justify;\">Głównym celem współpracy jest realizacja projektów wdrożeniowych i pilotażowych dotyczących innowacyjnych rozwiązań w obszarze certyfikacji systemów zarządzania jakością, środowiskiem, bezpieczeństwem pracy, bezpieczeństwem informacji, zarządzania ryzykiem, zarządzania ciągłością działania, odpowiedzialności społecznej biznesu we wszystkich obszarach gospodarki z naciskiem na przemysł, motoryzację i kolejnictwo.</p>,\n",
       " <p style=\"text-align: justify;\"><strong><o:p></o:p></strong><strong><span style=\"font-weight: normal;\"><o:p></o:p></span></strong></p>,\n",
       " <p style=\"text-align: justify;\">W dniu 28 kwietnia 2021 r. zostało podpisane porozumienie o współpracy pomiędzy Akademią Górniczo-Hutniczą, Wydziałem Zarządzania a firmą Kelvin Sp. z o.o. Strony deklarują zamiar współpracy dotyczącej realizacji: projektów wdrożeniowych, prowadzenia prac naukowo-badawczych, wymiany doświadczeń w zakresie zrównoważonego budownictwa, odnawialnych źródeł energii i zarządzania energią. Porozumienie określa także warunki współpracy w obszarze organizacji praktyk i staży dla studentów i pracowników Wydziału.<strong><o:p></o:p></strong><strong><span style=\"font-weight: normal;\"><o:p></o:p></span></strong></p>,\n",
       " <p style=\"text-align: justify;\">Zapraszamy do udziału w VII edycji konferencji <strong>„Innowacyjne pomysły młodych naukowców: Nauka –Startup –Przemysł” </strong>która odbędzie się w dniach <strong>27-28 maja 2021 r.</strong> <o:p></o:p></p>,\n",
       " <p style=\"text-align: justify;\"><strong>Konferencja odbędzie się w formie online!<o:p></o:p></strong></p>,\n",
       " <p style=\"text-align: justify;\"><strong><span style=\"font-weight: normal;\">Szczegółowe informacje na stronie: <a href=\"http://iati.pl/english-7th-edition-of-the-conference-young-researchers-innovative-ideas-science-start-ups-industry-2021/\">http://iati.pl/english-7th-edition-of-the-conference-young-researchers-innovative-ideas-science-start-ups-industry-2021/</a><o:p></o:p></span></strong></p>,\n",
       " <p style=\"text-align: justify;\"><strong style=\"font-family: Cambay; font-size: medium;\"></strong><span style=\"font-size: medium; font-family: Cambay; font-weight: normal;\">Dziękujemy za udział w dniu 16 kwietnia br. w <strong>Wirtualnym Dniu Otwartym na Planecie Zarządzania AGH</strong>!</span></p>,\n",
       " <p style=\"text-align: justify;\"><strong style=\"font-family: Cambay; font-size: medium;\"><span style=\"font-size: medium; font-family: Cambay; font-weight: normal;\">Mamy nadzieję do zobaczenia w październiku.<br/></span></strong></p>,\n",
       " <p style=\"text-align: justify;\"><span style=\"font-size: medium; font-family: Cambay; font-weight: normal;\">Zapraszamy do </span><span style=\"font-size: medium; font-family: Cambay; font-weight: normal;\"><span style=\"font-size: medium; font-family: Cambay; font-weight: normal;\">odwiedzenia nas na FB: <a href=\"https://www.facebook.com/zarzadzanieagh\">https://www.facebook.com/zarzadzanieagh</a> oraz na YT: <a href=\"https://www.youtube.com/channel/UCGPqGUwUwRQIawKKc1XjWsQ\">https://www.youtube.com/channel/UCGPqGUwUwRQIawKKc1XjWsQ</a></span></span></p>,\n",
       " <p style=\"text-align: justify;\">Redakcja „Forbes Women” wraz z siedmioosobową kapitułą, złożoną z ekspertów, specjalizujących się w różnych aspektach sustainability, przygotowała listę nominowanych: Polek, które w sposób szczególny angażują się w edukację i konkretne działania na rzecz zrównoważonego rozwoju – w domach, szkołach, firmach, instytucjach, mediach.<span></span></p>,\n",
       " <p style=\"text-align: justify;\"> Jest nam niezmiernie miło poinformować, że Prof. Kulczycka znalazła się w tym gronie. Szczegółowe informacje dostępne są na stronie: <span> <a href=\"https://bomega.pl/25-polskich-liderek-zrownowazonego-rozwoju-lista-forbes-women/?fbclid=IwAR2pYHvF-JC-Zw8X-3_3Tej9klXwXuvxO2Up15Fy48xDKHDPLpaHf_R-oOg\">https://bomega.pl/25-polskich-liderek-zrownowazonego-rozwoju-lista-forbes-women/?fbclid=IwAR2pYHvF-JC-Zw8X-3_3Tej9klXwXuvxO2Up15Fy48xDKHDPLpaHf_R-oOg</a></span></p>,\n",
       " <p style=\"text-align: justify;\"><span></span></p>,\n",
       " <p style=\"text-align: justify;\">Interesujący wywiad z Panią Profesor na naszym wydziałowym kanale YT: <a href=\"https://www.youtube.com/watch?v=ICPCxal61Mo\">https://www.youtube.com/watch?v=ICPCxal61Mo</a><span></span></p>,\n",
       " <p style=\"text-align: justify;\"> Zapraszamy do odwiedzenia naszego oficjalnego kanału na You Tube!</p>,\n",
       " <p style=\"text-align: justify;\">W dniu 27 stycznia 2021 r. odbyło się posiedzenie Komisji Europejskiej dotyczące rozwoju i możliwości wdrożenia technologii Hyperloop w krajach Unii Europejskiej (the Coordination Group with Member States Representatives on Hyperloop). Na spotkaniu prezentowany był m. in. projekt „<strong>Potencjał rozwoju i wdrażania w Polsce technologii kolei próżniowej w kontekście społecznym, technicznym, ekonomicznym i prawnym</strong>”, finansowany ze środków NCBiR w ramach strategicznego programu badań naukowych i prac rozwojowych „<strong>Społeczny i gospodarczy rozwój Polski w warunkach globalizujących się rynków GOSPOSTRATEG”. </strong>Liderem tego projektu było Ministerstwo Rozwoju, Pracy i Technologii, zaś konsorcjantami Akademia Górniczo-Hutnicza w Krakowie, Politechnika Warszawska i Akademia Leona Koźmińskiego.</p>,\n",
       " <p style=\"text-align: justify;\">Założenia projektu i wyniki prac badawczo-projektowych zrealizowanych przez Akademię Górniczo-Hutniczą prezentowali podczas tego spotkania online pracownicy Wydziału Zarządzania AGH: dr inż. Ewa Prymon-Ryś oraz dr inż. Rafał Rumin. Prezentacja spotkała się z bardzo pozytywnym przyjęciem i dużym zainteresowaniem ze strony przedstawicieli pozostałych krajów członkowskich uczestniczących w posiedzeniu.</p>,\n",
       " <p style=\"text-align: justify;\">Wydział Zarządzania wraz z firmą CadXpert uruchomił pierwsze w pełni sprawne laboratorium MakerBot Engineering Innovation Lab. Laboratorium wyposażone jest w 16 drukarek przeznaczonych do druku 3D w technologii FDM. Będzie ono służyć obsłudze procesów naukowo-badawczych oraz dydaktycznych w obszarach inżynierii odwrotnej i szybkiego prototypowania.</p>,\n",
       " <p style=\"text-align: justify;\">Zainteresowanych zapraszamy na stronę główną AGH: https://<a href=\"https://www.agh.edu.pl/info/article/najwieksza-pracownia-z-drukarkami-3d-w-agh/?tx_ttnews%5BcalendarYear%5D=2021&amp;tx_ttnews%5BcalendarMonth%5D=1&amp;cHash=3c2bb48580d9ce9bcadca61caab483c9\">www.agh.edu.pl/info/article/najwieksza-pracownia-z-drukarkami-3d-w-agh/?tx_ttnews%5BcalendarYear%5D=2021&amp;tx_ttnews%5BcalendarMonth%5D=1&amp;cHash=3c2bb48580d9ce9bcadca61caab483c9</a></p>,\n",
       " <p style=\"text-align: justify;\"></p>,\n",
       " <p style=\"text-align: justify;\">Od roku akademickiego 2020/2021 Wydział Zarządzania AGH dołączył do programu CEEPUS –  Środkowoeuropejskiego Programu Wymiany Uniwersyteckiej. Umożliwia on wymianę wiedzy i doświadczenia przez zwiększenie mobilności studentów oraz kadry akademickiej. Obecnie Wydział Zarządzania jest partnerem sieci RAMSIS – Inteligentnych Innowacyjnych Strategii dla Surowców. Liderem tej sieci jest Montanuniversitaet Leoben z Austrii. Ponadto należą do niej: Uniwersytet w Zagrzebiu, Chorwacja;  Uniwersytet w Belgradzie, Serbia; TUKE Techniczny Uniwersytet w Koszycach, Słowacja oraz Uniwersytet w Miszkolcu, Węgry.</p>,\n",
       " <p style=\"text-align: justify;\"> Koordynatorem na Wydziale Zarządzania jest dr Maciej Woźniak.</p>,\n",
       " <p style=\"text-align: justify;\">W dniu 1 grudnia 2020 r. Dziekan Wydziału Zarządzania podpisał umowę o współpracy z firmą MPEC Kraków S.A. Umowa obejmuje współpracę w zakresie realizacji wspólnych projektów naukowo-badawczych wspierających rozwiązania wykorzystujące narzędzia i metody z obszaru zarządzania w procesach produkcyjnych i organizacyjnych.</p>,\n",
       " <p style=\"text-align: justify;\">Liczymy na owocną współpracę!</p>,\n",
       " <p style=\"text-align: justify;\">W dniu 20 listopada 2020 r. Dziekan Wydziału Zarządzania podpisał umowę z firmą Alfa Laval sp. z o.o. Obie strony wyrażają chęć podjęcia współpracy, w tym współpracy badawczo-rozwojowej oraz wymiany ekspertów w celu wzmocnienia wzajemnego poziomu kompetencji, jak również w zakresie realizacji przedsięwzięć o charakterze naukowym, edukacyjnym, wdrożeniowym w obszarze  zarządzania procesami produkcyjnymi.</p>,\n",
       " <p style=\"text-align: justify;\">Władze Wydziału Zarządzania wraz z Wydziałową Radą Samorządu Studentów nagrodzili czterech prowadzących, którzy wyróżnili się ogromnym zaangażowaniem i pełnym profesjonalizmem podczas prowadzenia zajęć dydaktycznych. Gratulacje otrzymali: <strong></strong></p>,\n",
       " <p style=\"text-align: justify;\"><a href=\"https://www.zarz.agh.edu.pl/wp-content/uploads/2020/11/P.Duda_.pdf\">dr hab. inż. Jerzy Duda</a>,<br/><a href=\"https://www.zarz.agh.edu.pl/wp-content/uploads/2020/11/P.Wojtowicz.pdf\">dr Tomasz Wójtowicz</a>,<br/><a href=\"https://www.zarz.agh.edu.pl/wp-content/uploads/2020/11/P.Posluszny.pdf\">dr inż Krzysztof Posłuszny</a>,<br/><a href=\"https://www.zarz.agh.edu.pl/wp-content/uploads/2020/11/P.Ziolkowski.pdf\">dr inż. Sławomir Ziółkowski</a></p>]"
      ]
     },
     "execution_count": 48,
     "metadata": {},
     "output_type": "execute_result"
    }
   ],
   "source": [
    "# [paragraph.text for paragraph in info]\n",
    "paragraphs = soup.find_all('p', style = \"text-align: justify;\")\n",
    "paragraphs"
   ]
  },
  {
   "cell_type": "markdown",
   "metadata": {},
   "source": [
    "## Przykład gumtree"
   ]
  },
  {
   "cell_type": "code",
   "execution_count": null,
   "metadata": {},
   "outputs": [],
   "source": [
    "# url='https://www.gumtree.pl/s-parking-i-garaz/malopolskie/v1c9071l3200003p1'\n",
    "url='https://www.gumtree.pl/s-parking-i-garaz/malopolskie/v1c9071l3200003p1?fr=ownr'\n",
    "r = requests.get(url)\n",
    "soup = BeautifulSoup(r.text, 'lxml')"
   ]
  },
  {
   "cell_type": "code",
   "execution_count": null,
   "metadata": {},
   "outputs": [
    {
     "data": {
      "text/plain": [
       "<span>MIEJSCE POSTOJOWE W GARAŻU PODZIEMNYM PRZY UL Francesco Nullo 32 Kraków. Dostępne od zaraz.                    </span>"
      ]
     },
     "execution_count": 53,
     "metadata": {},
     "output_type": "execute_result"
    }
   ],
   "source": [
    "content = soup.find_all('div', class_='tileV1')\n",
    "[z.span for z in content][0]\n",
    "\n",
    "\n",
    "\n",
    "# \\xa0 is actually non-breaking space in Latin1, here is utf-8\n",
    "# [z.text.replace(u'\\xa0', u' ') for z in content][0]"
   ]
  },
  {
   "cell_type": "code",
   "execution_count": null,
   "metadata": {},
   "outputs": [
    {
     "data": {
      "text/plain": [
       "'Wynajmę miejsce parkingowe w garażu podziemnym'"
      ]
     },
     "execution_count": 54,
     "metadata": {},
     "output_type": "execute_result"
    }
   ],
   "source": [
    "titles = soup.find_all('a', class_=\"href-link tile-title-text\")\n",
    "titles[1].text"
   ]
  },
  {
   "cell_type": "code",
   "execution_count": null,
   "metadata": {},
   "outputs": [
    {
     "data": {
      "text/plain": [
       "'190 zł'"
      ]
     },
     "execution_count": 60,
     "metadata": {},
     "output_type": "execute_result"
    }
   ],
   "source": [
    "prices = soup.find_all('span', class_='ad-price')\n",
    "prices[0].text\n",
    "# prices[0].text.strip()"
   ]
  },
  {
   "cell_type": "code",
   "execution_count": null,
   "metadata": {},
   "outputs": [
    {
     "data": {
      "text/plain": [
       "['190', '200', '230', '290']"
      ]
     },
     "execution_count": 61,
     "metadata": {},
     "output_type": "execute_result"
    }
   ],
   "source": [
    "import re\n",
    "extracted_prices = [re.sub('[^0-9]', '', z.text) for z in prices]\n",
    "extracted_prices[0:4]"
   ]
  },
  {
   "cell_type": "markdown",
   "metadata": {},
   "source": [
    "## Przykład z POST requestem"
   ]
  },
  {
   "cell_type": "markdown",
   "metadata": {},
   "source": [
    "<a href=\"https://topex.ucsd.edu/cgi-bin/get_data.cgi\">https://topex.ucsd.edu/cgi-bin/get_data.cgi</a>"
   ]
  },
  {
   "cell_type": "code",
   "execution_count": null,
   "metadata": {},
   "outputs": [
    {
     "name": "stderr",
     "output_type": "stream",
     "text": [
      "C:\\Users\\Admin\\Envs\\mlroad\\lib\\site-packages\\urllib3\\connectionpool.py:1013: InsecureRequestWarning: Unverified HTTPS request is being made to host 'topex.ucsd.edu'. Adding certificate verification is strongly advised. See: https://urllib3.readthedocs.io/en/1.26.x/advanced-usage.html#ssl-warnings\n",
      "  warnings.warn(\n"
     ]
    },
    {
     "data": {
      "text/plain": [
       "str"
      ]
     },
     "execution_count": 62,
     "metadata": {},
     "output_type": "execute_result"
    }
   ],
   "source": [
    "# <form action=\"get_data.cgi\" method=\"post\">\n",
    "post_data = {\n",
    "'north': 50.5,\n",
    "'west': 20,\n",
    "'east': 21,\n",
    "'south': 49.5,\n",
    "'mag': 1\n",
    "}\n",
    "response = requests.post('https://topex.ucsd.edu/cgi-bin/get_data.cgi', data=post_data, verify=False).text\n",
    "type(response)"
   ]
  },
  {
   "cell_type": "code",
   "execution_count": null,
   "metadata": {},
   "outputs": [],
   "source": [
    "pattern = r'\\s+'\n",
    "# text_after = re.sub(regex_search_term, regex_replacement, text_before)\n",
    "response = re.sub(pattern,',',response)"
   ]
  },
  {
   "cell_type": "code",
   "execution_count": null,
   "metadata": {},
   "outputs": [],
   "source": [
    "data = response.split(',')\n",
    "assert len(data) % 3 == 0 \n",
    "data_dict = {\"latitude\": data[::3],\n",
    "             \"longitude\": data[1::3],\n",
    "             \"height\": data[2::3]}"
   ]
  },
  {
   "cell_type": "code",
   "execution_count": null,
   "metadata": {},
   "outputs": [
    {
     "data": {
      "text/plain": [
       "(5734, 5734, 5734)"
      ]
     },
     "execution_count": 102,
     "metadata": {},
     "output_type": "execute_result"
    }
   ],
   "source": [
    "len(data_dict['latitude']), len(data_dict['longitude']), len(data_dict['height'])"
   ]
  },
  {
   "cell_type": "code",
   "execution_count": null,
   "metadata": {},
   "outputs": [
    {
     "data": {
      "text/plain": [
       "latitude     float64\n",
       "longitude    float64\n",
       "height       float64\n",
       "dtype: object"
      ]
     },
     "execution_count": 103,
     "metadata": {},
     "output_type": "execute_result"
    }
   ],
   "source": [
    "import pandas as pd\n",
    "import numpy as np\n",
    "import matplotlib.pyplot as plt\n",
    "from mpl_toolkits import mplot3d\n",
    "df = pd.DataFrame(data_dict,dtype=np.float64)\n",
    "df.dtypes\n",
    "\n"
   ]
  },
  {
   "cell_type": "code",
   "execution_count": null,
   "metadata": {},
   "outputs": [
    {
     "data": {
      "text/html": [
       "<div>\n",
       "<style scoped>\n",
       "    .dataframe tbody tr th:only-of-type {\n",
       "        vertical-align: middle;\n",
       "    }\n",
       "\n",
       "    .dataframe tbody tr th {\n",
       "        vertical-align: top;\n",
       "    }\n",
       "\n",
       "    .dataframe thead th {\n",
       "        text-align: right;\n",
       "    }\n",
       "</style>\n",
       "<table border=\"1\" class=\"dataframe\">\n",
       "  <thead>\n",
       "    <tr style=\"text-align: right;\">\n",
       "      <th></th>\n",
       "      <th>latitude</th>\n",
       "      <th>longitude</th>\n",
       "      <th>height</th>\n",
       "    </tr>\n",
       "  </thead>\n",
       "  <tbody>\n",
       "    <tr>\n",
       "      <th>0</th>\n",
       "      <td>0.0083</td>\n",
       "      <td>50.5012</td>\n",
       "      <td>277.0</td>\n",
       "    </tr>\n",
       "    <tr>\n",
       "      <th>1</th>\n",
       "      <td>20.0250</td>\n",
       "      <td>50.5012</td>\n",
       "      <td>277.0</td>\n",
       "    </tr>\n",
       "    <tr>\n",
       "      <th>2</th>\n",
       "      <td>20.0417</td>\n",
       "      <td>50.5012</td>\n",
       "      <td>273.0</td>\n",
       "    </tr>\n",
       "    <tr>\n",
       "      <th>3</th>\n",
       "      <td>20.0583</td>\n",
       "      <td>50.5012</td>\n",
       "      <td>285.0</td>\n",
       "    </tr>\n",
       "    <tr>\n",
       "      <th>4</th>\n",
       "      <td>20.0750</td>\n",
       "      <td>50.5012</td>\n",
       "      <td>299.0</td>\n",
       "    </tr>\n",
       "  </tbody>\n",
       "</table>\n",
       "</div>"
      ],
      "text/plain": [
       "   latitude  longitude  height\n",
       "0    0.0083    50.5012   277.0\n",
       "1   20.0250    50.5012   277.0\n",
       "2   20.0417    50.5012   273.0\n",
       "3   20.0583    50.5012   285.0\n",
       "4   20.0750    50.5012   299.0"
      ]
     },
     "execution_count": 104,
     "metadata": {},
     "output_type": "execute_result"
    }
   ],
   "source": [
    "df.head()"
   ]
  },
  {
   "cell_type": "code",
   "execution_count": null,
   "metadata": {},
   "outputs": [
    {
     "name": "stdout",
     "output_type": "stream",
     "text": [
      "<class 'pandas.core.frame.DataFrame'>\n",
      "RangeIndex: 5734 entries, 0 to 5733\n",
      "Data columns (total 3 columns):\n",
      " #   Column     Non-Null Count  Dtype  \n",
      "---  ------     --------------  -----  \n",
      " 0   latitude   5734 non-null   float64\n",
      " 1   longitude  5734 non-null   float64\n",
      " 2   height     5734 non-null   float64\n",
      "dtypes: float64(3)\n",
      "memory usage: 134.5 KB\n"
     ]
    }
   ],
   "source": [
    "df.info()"
   ]
  },
  {
   "cell_type": "code",
   "execution_count": null,
   "metadata": {},
   "outputs": [
    {
     "data": {
      "image/png": "[encoded data removed]",
      "text/plain": [
       "<Figure size 720x576 with 1 Axes>"
      ]
     },
     "metadata": {
      "needs_background": "light"
     },
     "output_type": "display_data"
    }
   ],
   "source": [
    "fig = plt.figure(figsize=(10, 8))\n",
    "ax = plt.axes(projection='3d')\n",
    "zdata = df[\"height\"][1:]\n",
    "xdata = df[\"latitude\"][1:]\n",
    "ydata = df[\"longitude\"][1:]\n",
    "ax.plot_trisurf(xdata, ydata, zdata,  cmap='Greens');"
   ]
  },
  {
   "cell_type": "markdown",
   "metadata": {},
   "source": [
    "## Pobieranie obrazów "
   ]
  },
  {
   "cell_type": "code",
   "execution_count": null,
   "metadata": {},
   "outputs": [
    {
     "data": {
      "text/plain": [
       "<div>\n",
       "<ol class=\"row\">\n",
       "<li class=\"col-xs-6 col-sm-4 col-md-3 col-lg-3\">\n",
       "<article class=\"product_pod\">\n",
       "<div class=\"image_container\">\n",
       "<a href=\"catalogue/a-light-in-the-attic_1000/index.html\"><img alt=\"A Light in the Attic\" class=\"thumbnail\" src=\"media/cache/2c/da/2cdad67c44b002e7ead0cc35693c0e8b.jpg\"/></a>\n",
       "</div>\n",
       "<p class=\"star-rating Three\">\n",
       "<i class=\"icon-star\"></i>\n",
       "<i class=\"icon-star\"></i>\n",
       "<i class=\"icon-star\"></i>\n",
       "<i class=\"icon-star\"></i>\n",
       "<i class=\"icon-star\"></i>\n",
       "</p>\n",
       "<h3><a href=\"catalogue/a-light-in-the-attic_1000/index.html\" title=\"A Light in the Attic\">A Light in the ...</a></h3>\n",
       "<div class=\"product_price\">\n",
       "<p class=\"price_color\">£51.77</p>\n",
       "<p class=\"instock availability\">\n",
       "<i class=\"icon-ok\"></i>\n",
       "    \n",
       "        In stock\n",
       "    \n",
       "</p>\n",
       "<form>\n",
       "<button class=\"btn btn-primary btn-block\" data-loading-text=\"Adding...\" type=\"submit\">Add to basket</button>\n",
       "</form>\n",
       "</div>\n",
       "</article>\n",
       "</li>\n",
       "<li class=\"col-xs-6 col-sm-4 col-md-3 col-lg-3\">\n",
       "<article class=\"product_pod\">\n",
       "<div class=\"image_container\">\n",
       "<a href=\"catalogue/tipping-the-velvet_999/index.html\"><img alt=\"Tipping the Velvet\" class=\"thumbnail\" src=\"media/cache/26/0c/260c6ae16bce31c8f8c95daddd9f4a1c.jpg\"/></a>\n",
       "</div>\n",
       "<p class=\"star-rating One\">\n",
       "<i class=\"icon-star\"></i>\n",
       "<i class=\"icon-star\"></i>\n",
       "<i class=\"icon-star\"></i>\n",
       "<i class=\"icon-star\"></i>\n",
       "<i class=\"icon-star\"></i>\n",
       "</p>\n",
       "<h3><a href=\"catalogue/tipping-the-velvet_999/index.html\" title=\"Tipping the Velvet\">Tipping the Velvet</a></h3>\n",
       "<div class=\"product_price\">\n",
       "<p class=\"price_color\">£53.74</p>\n",
       "<p class=\"instock availability\">\n",
       "<i class=\"icon-ok\"></i>\n",
       "    \n",
       "        In stock\n",
       "    \n",
       "</p>\n",
       "<form>\n",
       "<button class=\"btn btn-primary btn-block\" data-loading-text=\"Adding...\" type=\"submit\">Add to basket</button>\n",
       "</form>\n",
       "</div>\n",
       "</article>\n",
       "</li>\n",
       "<li class=\"col-xs-6 col-sm-4 col-md-3 col-lg-3\">\n",
       "<article class=\"product_pod\">\n",
       "<div class=\"image_container\">\n",
       "<a href=\"catalogue/soumission_998/index.html\"><img alt=\"Soumission\" class=\"thumbnail\" src=\"media/cache/3e/ef/3eef99c9d9adef34639f510662022830.jpg\"/></a>\n",
       "</div>\n",
       "<p class=\"star-rating One\">\n",
       "<i class=\"icon-star\"></i>\n",
       "<i class=\"icon-star\"></i>\n",
       "<i class=\"icon-star\"></i>\n",
       "<i class=\"icon-star\"></i>\n",
       "<i class=\"icon-star\"></i>\n",
       "</p>\n",
       "<h3><a href=\"catalogue/soumission_998/index.html\" title=\"Soumission\">Soumission</a></h3>\n",
       "<div class=\"product_price\">\n",
       "<p class=\"price_color\">£50.10</p>\n",
       "<p class=\"instock availability\">\n",
       "<i class=\"icon-ok\"></i>\n",
       "    \n",
       "        In stock\n",
       "    \n",
       "</p>\n",
       "<form>\n",
       "<button class=\"btn btn-primary btn-block\" data-loading-text=\"Adding...\" type=\"submit\">Add to basket</button>\n",
       "</form>\n",
       "</div>\n",
       "</article>\n",
       "</li>\n",
       "<li class=\"col-xs-6 col-sm-4 col-md-3 col-lg-3\">\n",
       "<article class=\"product_pod\">\n",
       "<div class=\"image_container\">\n",
       "<a href=\"catalogue/sharp-objects_997/index.html\"><img alt=\"Sharp Objects\" class=\"thumbnail\" src=\"media/cache/32/51/3251cf3a3412f53f339e42cac2134093.jpg\"/></a>\n",
       "</div>\n",
       "<p class=\"star-rating Four\">\n",
       "<i class=\"icon-star\"></i>\n",
       "<i class=\"icon-star\"></i>\n",
       "<i class=\"icon-star\"></i>\n",
       "<i class=\"icon-star\"></i>\n",
       "<i class=\"icon-star\"></i>\n",
       "</p>\n",
       "<h3><a href=\"catalogue/sharp-objects_997/index.html\" title=\"Sharp Objects\">Sharp Objects</a></h3>\n",
       "<div class=\"product_price\">\n",
       "<p class=\"price_color\">£47.82</p>\n",
       "<p class=\"instock availability\">\n",
       "<i class=\"icon-ok\"></i>\n",
       "    \n",
       "        In stock\n",
       "    \n",
       "</p>\n",
       "<form>\n",
       "<button class=\"btn btn-primary btn-block\" data-loading-text=\"Adding...\" type=\"submit\">Add to basket</button>\n",
       "</form>\n",
       "</div>\n",
       "</article>\n",
       "</li>\n",
       "<li class=\"col-xs-6 col-sm-4 col-md-3 col-lg-3\">\n",
       "<article class=\"product_pod\">\n",
       "<div class=\"image_container\">\n",
       "<a href=\"catalogue/sapiens-a-brief-history-of-humankind_996/index.html\"><img alt=\"Sapiens: A Brief History of Humankind\" class=\"thumbnail\" src=\"media/cache/be/a5/bea5697f2534a2f86a3ef27b5a8c12a6.jpg\"/></a>\n",
       "</div>\n",
       "<p class=\"star-rating Five\">\n",
       "<i class=\"icon-star\"></i>\n",
       "<i class=\"icon-star\"></i>\n",
       "<i class=\"icon-star\"></i>\n",
       "<i class=\"icon-star\"></i>\n",
       "<i class=\"icon-star\"></i>\n",
       "</p>\n",
       "<h3><a href=\"catalogue/sapiens-a-brief-history-of-humankind_996/index.html\" title=\"Sapiens: A Brief History of Humankind\">Sapiens: A Brief History ...</a></h3>\n",
       "<div class=\"product_price\">\n",
       "<p class=\"price_color\">£54.23</p>\n",
       "<p class=\"instock availability\">\n",
       "<i class=\"icon-ok\"></i>\n",
       "    \n",
       "        In stock\n",
       "    \n",
       "</p>\n",
       "<form>\n",
       "<button class=\"btn btn-primary btn-block\" data-loading-text=\"Adding...\" type=\"submit\">Add to basket</button>\n",
       "</form>\n",
       "</div>\n",
       "</article>\n",
       "</li>\n",
       "<li class=\"col-xs-6 col-sm-4 col-md-3 col-lg-3\">\n",
       "<article class=\"product_pod\">\n",
       "<div class=\"image_container\">\n",
       "<a href=\"catalogue/the-requiem-red_995/index.html\"><img alt=\"The Requiem Red\" class=\"thumbnail\" src=\"media/cache/68/33/68339b4c9bc034267e1da611ab3b34f8.jpg\"/></a>\n",
       "</div>\n",
       "<p class=\"star-rating One\">\n",
       "<i class=\"icon-star\"></i>\n",
       "<i class=\"icon-star\"></i>\n",
       "<i class=\"icon-star\"></i>\n",
       "<i class=\"icon-star\"></i>\n",
       "<i class=\"icon-star\"></i>\n",
       "</p>\n",
       "<h3><a href=\"catalogue/the-requiem-red_995/index.html\" title=\"The Requiem Red\">The Requiem Red</a></h3>\n",
       "<div class=\"product_price\">\n",
       "<p class=\"price_color\">£22.65</p>\n",
       "<p class=\"instock availability\">\n",
       "<i class=\"icon-ok\"></i>\n",
       "    \n",
       "        In stock\n",
       "    \n",
       "</p>\n",
       "<form>\n",
       "<button class=\"btn btn-primary btn-block\" data-loading-text=\"Adding...\" type=\"submit\">Add to basket</button>\n",
       "</form>\n",
       "</div>\n",
       "</article>\n",
       "</li>\n",
       "<li class=\"col-xs-6 col-sm-4 col-md-3 col-lg-3\">\n",
       "<article class=\"product_pod\">\n",
       "<div class=\"image_container\">\n",
       "<a href=\"catalogue/the-dirty-little-secrets-of-getting-your-dream-job_994/index.html\"><img alt=\"The Dirty Little Secrets of Getting Your Dream Job\" class=\"thumbnail\" src=\"media/cache/92/27/92274a95b7c251fea59a2b8a78275ab4.jpg\"/></a>\n",
       "</div>\n",
       "<p class=\"star-rating Four\">\n",
       "<i class=\"icon-star\"></i>\n",
       "<i class=\"icon-star\"></i>\n",
       "<i class=\"icon-star\"></i>\n",
       "<i class=\"icon-star\"></i>\n",
       "<i class=\"icon-star\"></i>\n",
       "</p>\n",
       "<h3><a href=\"catalogue/the-dirty-little-secrets-of-getting-your-dream-job_994/index.html\" title=\"The Dirty Little Secrets of Getting Your Dream Job\">The Dirty Little Secrets ...</a></h3>\n",
       "<div class=\"product_price\">\n",
       "<p class=\"price_color\">£33.34</p>\n",
       "<p class=\"instock availability\">\n",
       "<i class=\"icon-ok\"></i>\n",
       "    \n",
       "        In stock\n",
       "    \n",
       "</p>\n",
       "<form>\n",
       "<button class=\"btn btn-primary btn-block\" data-loading-text=\"Adding...\" type=\"submit\">Add to basket</button>\n",
       "</form>\n",
       "</div>\n",
       "</article>\n",
       "</li>\n",
       "<li class=\"col-xs-6 col-sm-4 col-md-3 col-lg-3\">\n",
       "<article class=\"product_pod\">\n",
       "<div class=\"image_container\">\n",
       "<a href=\"catalogue/the-coming-woman-a-novel-based-on-the-life-of-the-infamous-feminist-victoria-woodhull_993/index.html\"><img alt=\"The Coming Woman: A Novel Based on the Life of the Infamous Feminist, Victoria Woodhull\" class=\"thumbnail\" src=\"media/cache/3d/54/3d54940e57e662c4dd1f3ff00c78cc64.jpg\"/></a>\n",
       "</div>\n",
       "<p class=\"star-rating Three\">\n",
       "<i class=\"icon-star\"></i>\n",
       "<i class=\"icon-star\"></i>\n",
       "<i class=\"icon-star\"></i>\n",
       "<i class=\"icon-star\"></i>\n",
       "<i class=\"icon-star\"></i>\n",
       "</p>\n",
       "<h3><a href=\"catalogue/the-coming-woman-a-novel-based-on-the-life-of-the-infamous-feminist-victoria-woodhull_993/index.html\" title=\"The Coming Woman: A Novel Based on the Life of the Infamous Feminist, Victoria Woodhull\">The Coming Woman: A ...</a></h3>\n",
       "<div class=\"product_price\">\n",
       "<p class=\"price_color\">£17.93</p>\n",
       "<p class=\"instock availability\">\n",
       "<i class=\"icon-ok\"></i>\n",
       "    \n",
       "        In stock\n",
       "    \n",
       "</p>\n",
       "<form>\n",
       "<button class=\"btn btn-primary btn-block\" data-loading-text=\"Adding...\" type=\"submit\">Add to basket</button>\n",
       "</form>\n",
       "</div>\n",
       "</article>\n",
       "</li>\n",
       "<li class=\"col-xs-6 col-sm-4 col-md-3 col-lg-3\">\n",
       "<article class=\"product_pod\">\n",
       "<div class=\"image_container\">\n",
       "<a href=\"catalogue/the-boys-in-the-boat-nine-americans-and-their-epic-quest-for-gold-at-the-1936-berlin-olympics_992/index.html\"><img alt=\"The Boys in the Boat: Nine Americans and Their Epic Quest for Gold at the 1936 Berlin Olympics\" class=\"thumbnail\" src=\"media/cache/66/88/66883b91f6804b2323c8369331cb7dd1.jpg\"/></a>\n",
       "</div>\n",
       "<p class=\"star-rating Four\">\n",
       "<i class=\"icon-star\"></i>\n",
       "<i class=\"icon-star\"></i>\n",
       "<i class=\"icon-star\"></i>\n",
       "<i class=\"icon-star\"></i>\n",
       "<i class=\"icon-star\"></i>\n",
       "</p>\n",
       "<h3><a href=\"catalogue/the-boys-in-the-boat-nine-americans-and-their-epic-quest-for-gold-at-the-1936-berlin-olympics_992/index.html\" title=\"The Boys in the Boat: Nine Americans and Their Epic Quest for Gold at the 1936 Berlin Olympics\">The Boys in the ...</a></h3>\n",
       "<div class=\"product_price\">\n",
       "<p class=\"price_color\">£22.60</p>\n",
       "<p class=\"instock availability\">\n",
       "<i class=\"icon-ok\"></i>\n",
       "    \n",
       "        In stock\n",
       "    \n",
       "</p>\n",
       "<form>\n",
       "<button class=\"btn btn-primary btn-block\" data-loading-text=\"Adding...\" type=\"submit\">Add to basket</button>\n",
       "</form>\n",
       "</div>\n",
       "</article>\n",
       "</li>\n",
       "<li class=\"col-xs-6 col-sm-4 col-md-3 col-lg-3\">\n",
       "<article class=\"product_pod\">\n",
       "<div class=\"image_container\">\n",
       "<a href=\"catalogue/the-black-maria_991/index.html\"><img alt=\"The Black Maria\" class=\"thumbnail\" src=\"media/cache/58/46/5846057e28022268153beff6d352b06c.jpg\"/></a>\n",
       "</div>\n",
       "<p class=\"star-rating One\">\n",
       "<i class=\"icon-star\"></i>\n",
       "<i class=\"icon-star\"></i>\n",
       "<i class=\"icon-star\"></i>\n",
       "<i class=\"icon-star\"></i>\n",
       "<i class=\"icon-star\"></i>\n",
       "</p>\n",
       "<h3><a href=\"catalogue/the-black-maria_991/index.html\" title=\"The Black Maria\">The Black Maria</a></h3>\n",
       "<div class=\"product_price\">\n",
       "<p class=\"price_color\">£52.15</p>\n",
       "<p class=\"instock availability\">\n",
       "<i class=\"icon-ok\"></i>\n",
       "    \n",
       "        In stock\n",
       "    \n",
       "</p>\n",
       "<form>\n",
       "<button class=\"btn btn-primary btn-block\" data-loading-text=\"Adding...\" type=\"submit\">Add to basket</button>\n",
       "</form>\n",
       "</div>\n",
       "</article>\n",
       "</li>\n",
       "<li class=\"col-xs-6 col-sm-4 col-md-3 col-lg-3\">\n",
       "<article class=\"product_pod\">\n",
       "<div class=\"image_container\">\n",
       "<a href=\"catalogue/starving-hearts-triangular-trade-trilogy-1_990/index.html\"><img alt=\"Starving Hearts (Triangular Trade Trilogy, #1)\" class=\"thumbnail\" src=\"media/cache/be/f4/bef44da28c98f905a3ebec0b87be8530.jpg\"/></a>\n",
       "</div>\n",
       "<p class=\"star-rating Two\">\n",
       "<i class=\"icon-star\"></i>\n",
       "<i class=\"icon-star\"></i>\n",
       "<i class=\"icon-star\"></i>\n",
       "<i class=\"icon-star\"></i>\n",
       "<i class=\"icon-star\"></i>\n",
       "</p>\n",
       "<h3><a href=\"catalogue/starving-hearts-triangular-trade-trilogy-1_990/index.html\" title=\"Starving Hearts (Triangular Trade Trilogy, #1)\">Starving Hearts (Triangular Trade ...</a></h3>\n",
       "<div class=\"product_price\">\n",
       "<p class=\"price_color\">£13.99</p>\n",
       "<p class=\"instock availability\">\n",
       "<i class=\"icon-ok\"></i>\n",
       "    \n",
       "        In stock\n",
       "    \n",
       "</p>\n",
       "<form>\n",
       "<button class=\"btn btn-primary btn-block\" data-loading-text=\"Adding...\" type=\"submit\">Add to basket</button>\n",
       "</form>\n",
       "</div>\n",
       "</article>\n",
       "</li>\n",
       "<li class=\"col-xs-6 col-sm-4 col-md-3 col-lg-3\">\n",
       "<article class=\"product_pod\">\n",
       "<div class=\"image_container\">\n",
       "<a href=\"catalogue/shakespeares-sonnets_989/index.html\"><img alt=\"Shakespeare's Sonnets\" class=\"thumbnail\" src=\"media/cache/10/48/1048f63d3b5061cd2f424d20b3f9b666.jpg\"/></a>\n",
       "</div>\n",
       "<p class=\"star-rating Four\">\n",
       "<i class=\"icon-star\"></i>\n",
       "<i class=\"icon-star\"></i>\n",
       "<i class=\"icon-star\"></i>\n",
       "<i class=\"icon-star\"></i>\n",
       "<i class=\"icon-star\"></i>\n",
       "</p>\n",
       "<h3><a href=\"catalogue/shakespeares-sonnets_989/index.html\" title=\"Shakespeare's Sonnets\">Shakespeare's Sonnets</a></h3>\n",
       "<div class=\"product_price\">\n",
       "<p class=\"price_color\">£20.66</p>\n",
       "<p class=\"instock availability\">\n",
       "<i class=\"icon-ok\"></i>\n",
       "    \n",
       "        In stock\n",
       "    \n",
       "</p>\n",
       "<form>\n",
       "<button class=\"btn btn-primary btn-block\" data-loading-text=\"Adding...\" type=\"submit\">Add to basket</button>\n",
       "</form>\n",
       "</div>\n",
       "</article>\n",
       "</li>\n",
       "<li class=\"col-xs-6 col-sm-4 col-md-3 col-lg-3\">\n",
       "<article class=\"product_pod\">\n",
       "<div class=\"image_container\">\n",
       "<a href=\"catalogue/set-me-free_988/index.html\"><img alt=\"Set Me Free\" class=\"thumbnail\" src=\"media/cache/5b/88/5b88c52633f53cacf162c15f4f823153.jpg\"/></a>\n",
       "</div>\n",
       "<p class=\"star-rating Five\">\n",
       "<i class=\"icon-star\"></i>\n",
       "<i class=\"icon-star\"></i>\n",
       "<i class=\"icon-star\"></i>\n",
       "<i class=\"icon-star\"></i>\n",
       "<i class=\"icon-star\"></i>\n",
       "</p>\n",
       "<h3><a href=\"catalogue/set-me-free_988/index.html\" title=\"Set Me Free\">Set Me Free</a></h3>\n",
       "<div class=\"product_price\">\n",
       "<p class=\"price_color\">£17.46</p>\n",
       "<p class=\"instock availability\">\n",
       "<i class=\"icon-ok\"></i>\n",
       "    \n",
       "        In stock\n",
       "    \n",
       "</p>\n",
       "<form>\n",
       "<button class=\"btn btn-primary btn-block\" data-loading-text=\"Adding...\" type=\"submit\">Add to basket</button>\n",
       "</form>\n",
       "</div>\n",
       "</article>\n",
       "</li>\n",
       "<li class=\"col-xs-6 col-sm-4 col-md-3 col-lg-3\">\n",
       "<article class=\"product_pod\">\n",
       "<div class=\"image_container\">\n",
       "<a href=\"catalogue/scott-pilgrims-precious-little-life-scott-pilgrim-1_987/index.html\"><img alt=\"Scott Pilgrim's Precious Little Life (Scott Pilgrim #1)\" class=\"thumbnail\" src=\"media/cache/94/b1/94b1b8b244bce9677c2f29ccc890d4d2.jpg\"/></a>\n",
       "</div>\n",
       "<p class=\"star-rating Five\">\n",
       "<i class=\"icon-star\"></i>\n",
       "<i class=\"icon-star\"></i>\n",
       "<i class=\"icon-star\"></i>\n",
       "<i class=\"icon-star\"></i>\n",
       "<i class=\"icon-star\"></i>\n",
       "</p>\n",
       "<h3><a href=\"catalogue/scott-pilgrims-precious-little-life-scott-pilgrim-1_987/index.html\" title=\"Scott Pilgrim's Precious Little Life (Scott Pilgrim #1)\">Scott Pilgrim's Precious Little ...</a></h3>\n",
       "<div class=\"product_price\">\n",
       "<p class=\"price_color\">£52.29</p>\n",
       "<p class=\"instock availability\">\n",
       "<i class=\"icon-ok\"></i>\n",
       "    \n",
       "        In stock\n",
       "    \n",
       "</p>\n",
       "<form>\n",
       "<button class=\"btn btn-primary btn-block\" data-loading-text=\"Adding...\" type=\"submit\">Add to basket</button>\n",
       "</form>\n",
       "</div>\n",
       "</article>\n",
       "</li>\n",
       "<li class=\"col-xs-6 col-sm-4 col-md-3 col-lg-3\">\n",
       "<article class=\"product_pod\">\n",
       "<div class=\"image_container\">\n",
       "<a href=\"catalogue/rip-it-up-and-start-again_986/index.html\"><img alt=\"Rip it Up and Start Again\" class=\"thumbnail\" src=\"media/cache/81/c4/81c4a973364e17d01f217e1188253d5e.jpg\"/></a>\n",
       "</div>\n",
       "<p class=\"star-rating Five\">\n",
       "<i class=\"icon-star\"></i>\n",
       "<i class=\"icon-star\"></i>\n",
       "<i class=\"icon-star\"></i>\n",
       "<i class=\"icon-star\"></i>\n",
       "<i class=\"icon-star\"></i>\n",
       "</p>\n",
       "<h3><a href=\"catalogue/rip-it-up-and-start-again_986/index.html\" title=\"Rip it Up and Start Again\">Rip it Up and ...</a></h3>\n",
       "<div class=\"product_price\">\n",
       "<p class=\"price_color\">£35.02</p>\n",
       "<p class=\"instock availability\">\n",
       "<i class=\"icon-ok\"></i>\n",
       "    \n",
       "        In stock\n",
       "    \n",
       "</p>\n",
       "<form>\n",
       "<button class=\"btn btn-primary btn-block\" data-loading-text=\"Adding...\" type=\"submit\">Add to basket</button>\n",
       "</form>\n",
       "</div>\n",
       "</article>\n",
       "</li>\n",
       "<li class=\"col-xs-6 col-sm-4 col-md-3 col-lg-3\">\n",
       "<article class=\"product_pod\">\n",
       "<div class=\"image_container\">\n",
       "<a href=\"catalogue/our-band-could-be-your-life-scenes-from-the-american-indie-underground-1981-1991_985/index.html\"><img alt=\"Our Band Could Be Your Life: Scenes from the American Indie Underground, 1981-1991\" class=\"thumbnail\" src=\"media/cache/54/60/54607fe8945897cdcced0044103b10b6.jpg\"/></a>\n",
       "</div>\n",
       "<p class=\"star-rating Three\">\n",
       "<i class=\"icon-star\"></i>\n",
       "<i class=\"icon-star\"></i>\n",
       "<i class=\"icon-star\"></i>\n",
       "<i class=\"icon-star\"></i>\n",
       "<i class=\"icon-star\"></i>\n",
       "</p>\n",
       "<h3><a href=\"catalogue/our-band-could-be-your-life-scenes-from-the-american-indie-underground-1981-1991_985/index.html\" title=\"Our Band Could Be Your Life: Scenes from the American Indie Underground, 1981-1991\">Our Band Could Be ...</a></h3>\n",
       "<div class=\"product_price\">\n",
       "<p class=\"price_color\">£57.25</p>\n",
       "<p class=\"instock availability\">\n",
       "<i class=\"icon-ok\"></i>\n",
       "    \n",
       "        In stock\n",
       "    \n",
       "</p>\n",
       "<form>\n",
       "<button class=\"btn btn-primary btn-block\" data-loading-text=\"Adding...\" type=\"submit\">Add to basket</button>\n",
       "</form>\n",
       "</div>\n",
       "</article>\n",
       "</li>\n",
       "<li class=\"col-xs-6 col-sm-4 col-md-3 col-lg-3\">\n",
       "<article class=\"product_pod\">\n",
       "<div class=\"image_container\">\n",
       "<a href=\"catalogue/olio_984/index.html\"><img alt=\"Olio\" class=\"thumbnail\" src=\"media/cache/55/33/553310a7162dfbc2c6d19a84da0df9e1.jpg\"/></a>\n",
       "</div>\n",
       "<p class=\"star-rating One\">\n",
       "<i class=\"icon-star\"></i>\n",
       "<i class=\"icon-star\"></i>\n",
       "<i class=\"icon-star\"></i>\n",
       "<i class=\"icon-star\"></i>\n",
       "<i class=\"icon-star\"></i>\n",
       "</p>\n",
       "<h3><a href=\"catalogue/olio_984/index.html\" title=\"Olio\">Olio</a></h3>\n",
       "<div class=\"product_price\">\n",
       "<p class=\"price_color\">£23.88</p>\n",
       "<p class=\"instock availability\">\n",
       "<i class=\"icon-ok\"></i>\n",
       "    \n",
       "        In stock\n",
       "    \n",
       "</p>\n",
       "<form>\n",
       "<button class=\"btn btn-primary btn-block\" data-loading-text=\"Adding...\" type=\"submit\">Add to basket</button>\n",
       "</form>\n",
       "</div>\n",
       "</article>\n",
       "</li>\n",
       "<li class=\"col-xs-6 col-sm-4 col-md-3 col-lg-3\">\n",
       "<article class=\"product_pod\">\n",
       "<div class=\"image_container\">\n",
       "<a href=\"catalogue/mesaerion-the-best-science-fiction-stories-1800-1849_983/index.html\"><img alt=\"Mesaerion: The Best Science Fiction Stories 1800-1849\" class=\"thumbnail\" src=\"media/cache/09/a3/09a3aef48557576e1a85ba7efea8ecb7.jpg\"/></a>\n",
       "</div>\n",
       "<p class=\"star-rating One\">\n",
       "<i class=\"icon-star\"></i>\n",
       "<i class=\"icon-star\"></i>\n",
       "<i class=\"icon-star\"></i>\n",
       "<i class=\"icon-star\"></i>\n",
       "<i class=\"icon-star\"></i>\n",
       "</p>\n",
       "<h3><a href=\"catalogue/mesaerion-the-best-science-fiction-stories-1800-1849_983/index.html\" title=\"Mesaerion: The Best Science Fiction Stories 1800-1849\">Mesaerion: The Best Science ...</a></h3>\n",
       "<div class=\"product_price\">\n",
       "<p class=\"price_color\">£37.59</p>\n",
       "<p class=\"instock availability\">\n",
       "<i class=\"icon-ok\"></i>\n",
       "    \n",
       "        In stock\n",
       "    \n",
       "</p>\n",
       "<form>\n",
       "<button class=\"btn btn-primary btn-block\" data-loading-text=\"Adding...\" type=\"submit\">Add to basket</button>\n",
       "</form>\n",
       "</div>\n",
       "</article>\n",
       "</li>\n",
       "<li class=\"col-xs-6 col-sm-4 col-md-3 col-lg-3\">\n",
       "<article class=\"product_pod\">\n",
       "<div class=\"image_container\">\n",
       "<a href=\"catalogue/libertarianism-for-beginners_982/index.html\"><img alt=\"Libertarianism for Beginners\" class=\"thumbnail\" src=\"media/cache/0b/bc/0bbcd0a6f4bcd81ccb1049a52736406e.jpg\"/></a>\n",
       "</div>\n",
       "<p class=\"star-rating Two\">\n",
       "<i class=\"icon-star\"></i>\n",
       "<i class=\"icon-star\"></i>\n",
       "<i class=\"icon-star\"></i>\n",
       "<i class=\"icon-star\"></i>\n",
       "<i class=\"icon-star\"></i>\n",
       "</p>\n",
       "<h3><a href=\"catalogue/libertarianism-for-beginners_982/index.html\" title=\"Libertarianism for Beginners\">Libertarianism for Beginners</a></h3>\n",
       "<div class=\"product_price\">\n",
       "<p class=\"price_color\">£51.33</p>\n",
       "<p class=\"instock availability\">\n",
       "<i class=\"icon-ok\"></i>\n",
       "    \n",
       "        In stock\n",
       "    \n",
       "</p>\n",
       "<form>\n",
       "<button class=\"btn btn-primary btn-block\" data-loading-text=\"Adding...\" type=\"submit\">Add to basket</button>\n",
       "</form>\n",
       "</div>\n",
       "</article>\n",
       "</li>\n",
       "<li class=\"col-xs-6 col-sm-4 col-md-3 col-lg-3\">\n",
       "<article class=\"product_pod\">\n",
       "<div class=\"image_container\">\n",
       "<a href=\"catalogue/its-only-the-himalayas_981/index.html\"><img alt=\"It's Only the Himalayas\" class=\"thumbnail\" src=\"media/cache/27/a5/27a53d0bb95bdd88288eaf66c9230d7e.jpg\"/></a>\n",
       "</div>\n",
       "<p class=\"star-rating Two\">\n",
       "<i class=\"icon-star\"></i>\n",
       "<i class=\"icon-star\"></i>\n",
       "<i class=\"icon-star\"></i>\n",
       "<i class=\"icon-star\"></i>\n",
       "<i class=\"icon-star\"></i>\n",
       "</p>\n",
       "<h3><a href=\"catalogue/its-only-the-himalayas_981/index.html\" title=\"It's Only the Himalayas\">It's Only the Himalayas</a></h3>\n",
       "<div class=\"product_price\">\n",
       "<p class=\"price_color\">£45.17</p>\n",
       "<p class=\"instock availability\">\n",
       "<i class=\"icon-ok\"></i>\n",
       "    \n",
       "        In stock\n",
       "    \n",
       "</p>\n",
       "<form>\n",
       "<button class=\"btn btn-primary btn-block\" data-loading-text=\"Adding...\" type=\"submit\">Add to basket</button>\n",
       "</form>\n",
       "</div>\n",
       "</article>\n",
       "</li>\n",
       "</ol>\n",
       "<div>\n",
       "<ul class=\"pager\">\n",
       "<li class=\"current\">\n",
       "            \n",
       "                Page 1 of 50\n",
       "            \n",
       "            </li>\n",
       "<li class=\"next\"><a href=\"catalogue/page-2.html\">next</a></li>\n",
       "</ul>\n",
       "</div>\n",
       "</div>"
      ]
     },
     "execution_count": 116,
     "metadata": {},
     "output_type": "execute_result"
    }
   ],
   "source": [
    "# http://books.toscrape.com/\n",
    "html_page = requests.get('http://books.toscrape.com/')\n",
    "soup = BeautifulSoup(html_page.content, 'html.parser')\n",
    "warning = soup.find('div', class_=\"alert alert-warning\")\n",
    "# warning = soup.find('div', class_=\"image_container\")\n",
    "\n",
    "warning\n",
    "book_container = warning.nextSibling.nextSibling\n",
    "book_container"
   ]
  },
  {
   "cell_type": "code",
   "execution_count": null,
   "metadata": {},
   "outputs": [
    {
     "data": {
      "text/plain": [
       "<img alt=\"Tipping the Velvet\" class=\"thumbnail\" src=\"media/cache/26/0c/260c6ae16bce31c8f8c95daddd9f4a1c.jpg\"/>"
      ]
     },
     "execution_count": 123,
     "metadata": {},
     "output_type": "execute_result"
    }
   ],
   "source": [
    "images = book_container.findAll('img')\n",
    "example = images[1]\n",
    "example"
   ]
  },
  {
   "cell_type": "code",
   "execution_count": null,
   "metadata": {},
   "outputs": [],
   "source": [
    "import shutil\n",
    "url_base = \"http://books.toscrape.com/\" #Originalna strona\n",
    "url_ext = example.attrs['src'] #src adres obrazka\n",
    "full_url = url_base + url_ext #łączenie adresów\n",
    "r = requests.get(full_url, stream=True) \n",
    "assert r.status_code == 200                    \n",
    "with open(\"book1.jpg\", 'wb') as f: \n",
    "    r.raw.decode_content = True\n",
    "    shutil.copyfileobj(r.raw, f)"
   ]
  },
  {
   "cell_type": "code",
   "execution_count": null,
   "metadata": {},
   "outputs": [
    {
     "data": {
      "image/png": "[encoded data removed]",
      "text/plain": [
       "<Figure size 432x288 with 1 Axes>"
      ]
     },
     "metadata": {
      "needs_background": "light"
     },
     "output_type": "display_data"
    }
   ],
   "source": [
    "import matplotlib.image as mpim\n",
    "img = mpim.imread('book1.jpg')\n",
    "imgplot = plt.imshow(img)\n",
    "plt.show()"
   ]
  }
 ],
 "metadata": {
  "interpreter": {
   "hash": "dcacb0086e9a4f4eabd41c33bf4faac5ea0a3337ed3f5eff0680afa930572c04"
  },
  "kernelspec": {
   "display_name": "Python 3.9.7 64-bit",
   "language": "python",
   "name": "python3"
  },
  "language_info": {
   "codemirror_mode": {
    "name": "ipython",
    "version": 3
   },
   "file_extension": ".py",
   "mimetype": "text/x-python",
   "name": "python",
   "nbconvert_exporter": "python",
   "pygments_lexer": "ipython3",
   "version": "3.9.7"
  },
  "orig_nbformat": 4
 },
 "nbformat": 4,
 "nbformat_minor": 2
}
